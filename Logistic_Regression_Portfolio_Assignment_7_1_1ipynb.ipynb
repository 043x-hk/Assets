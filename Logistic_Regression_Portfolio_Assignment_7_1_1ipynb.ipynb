{
  "nbformat": 4,
  "nbformat_minor": 0,
  "metadata": {
    "colab": {
      "provenance": []
    },
    "kernelspec": {
      "name": "python3",
      "display_name": "Python 3"
    },
    "language_info": {
      "name": "python"
    }
  },
  "cells": [
    {
      "cell_type": "markdown",
      "source": [
        "Lets start with importing what we need..."
      ],
      "metadata": {
        "id": "4cIBEMVuA5-9"
      }
    },
    {
      "cell_type": "code",
      "execution_count": 1,
      "metadata": {
        "id": "G8bltmBFJYz0",
        "colab": {
          "base_uri": "https://localhost:8080/"
        },
        "outputId": "25e0e2ff-e65f-4051-f7e6-f81f8afc1fde"
      },
      "outputs": [
        {
          "output_type": "stream",
          "name": "stdout",
          "text": [
            "Collecting skimpy\n",
            "  Downloading skimpy-0.0.18-py3-none-any.whl.metadata (34 kB)\n",
            "Requirement already satisfied: click>=8.1.7 in /usr/local/lib/python3.11/dist-packages (from skimpy) (8.1.8)\n",
            "Collecting ipykernel>=6.29.5 (from skimpy)\n",
            "  Downloading ipykernel-6.29.5-py3-none-any.whl.metadata (6.3 kB)\n",
            "Requirement already satisfied: numpy>=2.0.2 in /usr/local/lib/python3.11/dist-packages (from skimpy) (2.0.2)\n",
            "Requirement already satisfied: pandas-stubs>=2.2.2.240807 in /usr/local/lib/python3.11/dist-packages (from skimpy) (2.2.2.240909)\n",
            "Collecting pandas>=2.2.3 (from skimpy)\n",
            "  Downloading pandas-2.2.3-cp311-cp311-manylinux_2_17_x86_64.manylinux2014_x86_64.whl.metadata (89 kB)\n",
            "\u001b[2K     \u001b[90m━━━━━━━━━━━━━━━━━━━━━━━━━━━━━━━━━━━━━━━━\u001b[0m \u001b[32m89.9/89.9 kB\u001b[0m \u001b[31m4.1 MB/s\u001b[0m eta \u001b[36m0:00:00\u001b[0m\n",
            "\u001b[?25hRequirement already satisfied: polars>=1.17.1 in /usr/local/lib/python3.11/dist-packages (from skimpy) (1.21.0)\n",
            "Requirement already satisfied: pygments>=2.18.0 in /usr/local/lib/python3.11/dist-packages (from skimpy) (2.19.1)\n",
            "Requirement already satisfied: rich>=13.9.4 in /usr/local/lib/python3.11/dist-packages (from skimpy) (13.9.4)\n",
            "Requirement already satisfied: typeguard>=4.4.1 in /usr/local/lib/python3.11/dist-packages (from skimpy) (4.4.2)\n",
            "Requirement already satisfied: pyarrow>=17.0.0 in /usr/local/lib/python3.11/dist-packages (from skimpy) (18.1.0)\n",
            "Collecting comm>=0.1.1 (from ipykernel>=6.29.5->skimpy)\n",
            "  Downloading comm-0.2.2-py3-none-any.whl.metadata (3.7 kB)\n",
            "Requirement already satisfied: debugpy>=1.6.5 in /usr/local/lib/python3.11/dist-packages (from ipykernel>=6.29.5->skimpy) (1.8.0)\n",
            "Requirement already satisfied: ipython>=7.23.1 in /usr/local/lib/python3.11/dist-packages (from ipykernel>=6.29.5->skimpy) (7.34.0)\n",
            "Requirement already satisfied: jupyter-client>=6.1.12 in /usr/local/lib/python3.11/dist-packages (from ipykernel>=6.29.5->skimpy) (6.1.12)\n",
            "Requirement already satisfied: jupyter-core!=5.0.*,>=4.12 in /usr/local/lib/python3.11/dist-packages (from ipykernel>=6.29.5->skimpy) (5.7.2)\n",
            "Requirement already satisfied: matplotlib-inline>=0.1 in /usr/local/lib/python3.11/dist-packages (from ipykernel>=6.29.5->skimpy) (0.1.7)\n",
            "Requirement already satisfied: nest-asyncio in /usr/local/lib/python3.11/dist-packages (from ipykernel>=6.29.5->skimpy) (1.6.0)\n",
            "Requirement already satisfied: packaging in /usr/local/lib/python3.11/dist-packages (from ipykernel>=6.29.5->skimpy) (24.2)\n",
            "Requirement already satisfied: psutil in /usr/local/lib/python3.11/dist-packages (from ipykernel>=6.29.5->skimpy) (5.9.5)\n",
            "Requirement already satisfied: pyzmq>=24 in /usr/local/lib/python3.11/dist-packages (from ipykernel>=6.29.5->skimpy) (24.0.1)\n",
            "Requirement already satisfied: tornado>=6.1 in /usr/local/lib/python3.11/dist-packages (from ipykernel>=6.29.5->skimpy) (6.4.2)\n",
            "Requirement already satisfied: traitlets>=5.4.0 in /usr/local/lib/python3.11/dist-packages (from ipykernel>=6.29.5->skimpy) (5.7.1)\n",
            "Requirement already satisfied: python-dateutil>=2.8.2 in /usr/local/lib/python3.11/dist-packages (from pandas>=2.2.3->skimpy) (2.9.0.post0)\n",
            "Requirement already satisfied: pytz>=2020.1 in /usr/local/lib/python3.11/dist-packages (from pandas>=2.2.3->skimpy) (2025.2)\n",
            "Requirement already satisfied: tzdata>=2022.7 in /usr/local/lib/python3.11/dist-packages (from pandas>=2.2.3->skimpy) (2025.2)\n",
            "Requirement already satisfied: types-pytz>=2022.1.1 in /usr/local/lib/python3.11/dist-packages (from pandas-stubs>=2.2.2.240807->skimpy) (2025.2.0.20250326)\n",
            "Requirement already satisfied: markdown-it-py>=2.2.0 in /usr/local/lib/python3.11/dist-packages (from rich>=13.9.4->skimpy) (3.0.0)\n",
            "Requirement already satisfied: typing_extensions>=4.10.0 in /usr/local/lib/python3.11/dist-packages (from typeguard>=4.4.1->skimpy) (4.13.2)\n",
            "Requirement already satisfied: setuptools>=18.5 in /usr/local/lib/python3.11/dist-packages (from ipython>=7.23.1->ipykernel>=6.29.5->skimpy) (75.2.0)\n",
            "Collecting jedi>=0.16 (from ipython>=7.23.1->ipykernel>=6.29.5->skimpy)\n",
            "  Downloading jedi-0.19.2-py2.py3-none-any.whl.metadata (22 kB)\n",
            "Requirement already satisfied: decorator in /usr/local/lib/python3.11/dist-packages (from ipython>=7.23.1->ipykernel>=6.29.5->skimpy) (4.4.2)\n",
            "Requirement already satisfied: pickleshare in /usr/local/lib/python3.11/dist-packages (from ipython>=7.23.1->ipykernel>=6.29.5->skimpy) (0.7.5)\n",
            "Requirement already satisfied: prompt-toolkit!=3.0.0,!=3.0.1,<3.1.0,>=2.0.0 in /usr/local/lib/python3.11/dist-packages (from ipython>=7.23.1->ipykernel>=6.29.5->skimpy) (3.0.51)\n",
            "Requirement already satisfied: backcall in /usr/local/lib/python3.11/dist-packages (from ipython>=7.23.1->ipykernel>=6.29.5->skimpy) (0.2.0)\n",
            "Requirement already satisfied: pexpect>4.3 in /usr/local/lib/python3.11/dist-packages (from ipython>=7.23.1->ipykernel>=6.29.5->skimpy) (4.9.0)\n",
            "Requirement already satisfied: platformdirs>=2.5 in /usr/local/lib/python3.11/dist-packages (from jupyter-core!=5.0.*,>=4.12->ipykernel>=6.29.5->skimpy) (4.3.7)\n",
            "Requirement already satisfied: mdurl~=0.1 in /usr/local/lib/python3.11/dist-packages (from markdown-it-py>=2.2.0->rich>=13.9.4->skimpy) (0.1.2)\n",
            "Requirement already satisfied: six>=1.5 in /usr/local/lib/python3.11/dist-packages (from python-dateutil>=2.8.2->pandas>=2.2.3->skimpy) (1.17.0)\n",
            "Requirement already satisfied: parso<0.9.0,>=0.8.4 in /usr/local/lib/python3.11/dist-packages (from jedi>=0.16->ipython>=7.23.1->ipykernel>=6.29.5->skimpy) (0.8.4)\n",
            "Requirement already satisfied: ptyprocess>=0.5 in /usr/local/lib/python3.11/dist-packages (from pexpect>4.3->ipython>=7.23.1->ipykernel>=6.29.5->skimpy) (0.7.0)\n",
            "Requirement already satisfied: wcwidth in /usr/local/lib/python3.11/dist-packages (from prompt-toolkit!=3.0.0,!=3.0.1,<3.1.0,>=2.0.0->ipython>=7.23.1->ipykernel>=6.29.5->skimpy) (0.2.13)\n",
            "Downloading skimpy-0.0.18-py3-none-any.whl (17 kB)\n",
            "Downloading ipykernel-6.29.5-py3-none-any.whl (117 kB)\n",
            "\u001b[2K   \u001b[90m━━━━━━━━━━━━━━━━━━━━━━━━━━━━━━━━━━━━━━━━\u001b[0m \u001b[32m117.2/117.2 kB\u001b[0m \u001b[31m9.1 MB/s\u001b[0m eta \u001b[36m0:00:00\u001b[0m\n",
            "\u001b[?25hDownloading pandas-2.2.3-cp311-cp311-manylinux_2_17_x86_64.manylinux2014_x86_64.whl (13.1 MB)\n",
            "\u001b[2K   \u001b[90m━━━━━━━━━━━━━━━━━━━━━━━━━━━━━━━━━━━━━━━━\u001b[0m \u001b[32m13.1/13.1 MB\u001b[0m \u001b[31m95.7 MB/s\u001b[0m eta \u001b[36m0:00:00\u001b[0m\n",
            "\u001b[?25hDownloading comm-0.2.2-py3-none-any.whl (7.2 kB)\n",
            "Downloading jedi-0.19.2-py2.py3-none-any.whl (1.6 MB)\n",
            "\u001b[2K   \u001b[90m━━━━━━━━━━━━━━━━━━━━━━━━━━━━━━━━━━━━━━━━\u001b[0m \u001b[32m1.6/1.6 MB\u001b[0m \u001b[31m65.0 MB/s\u001b[0m eta \u001b[36m0:00:00\u001b[0m\n",
            "\u001b[?25hInstalling collected packages: jedi, comm, pandas, ipykernel, skimpy\n",
            "  Attempting uninstall: pandas\n",
            "    Found existing installation: pandas 2.2.2\n",
            "    Uninstalling pandas-2.2.2:\n",
            "      Successfully uninstalled pandas-2.2.2\n",
            "  Attempting uninstall: ipykernel\n",
            "    Found existing installation: ipykernel 6.17.1\n",
            "    Uninstalling ipykernel-6.17.1:\n",
            "      Successfully uninstalled ipykernel-6.17.1\n",
            "\u001b[31mERROR: pip's dependency resolver does not currently take into account all the packages that are installed. This behaviour is the source of the following dependency conflicts.\n",
            "google-colab 1.0.0 requires ipykernel==6.17.1, but you have ipykernel 6.29.5 which is incompatible.\n",
            "google-colab 1.0.0 requires pandas==2.2.2, but you have pandas 2.2.3 which is incompatible.\u001b[0m\u001b[31m\n",
            "\u001b[0mSuccessfully installed comm-0.2.2 ipykernel-6.29.5 jedi-0.19.2 pandas-2.2.3 skimpy-0.0.18\n"
          ]
        }
      ],
      "source": [
        "#imports\n",
        "import tensorflow as tf\n",
        "from tensorflow import keras\n",
        "import numpy as np\n",
        "import pandas as pd\n",
        "import matplotlib.pyplot as plt\n",
        "import statsmodels.api as sm\n",
        "from statsmodels.formula.api import ols\n",
        "from datetime import datetime\n",
        "from sklearn import linear_model\n",
        "from sklearn.preprocessing import StandardScaler\n",
        "from scipy.stats import norm\n",
        "\n",
        "keras.utils.set_random_seed(42)\n",
        "\n",
        "!pip install skimpy\n",
        "from skimpy import skim"
      ]
    },
    {
      "cell_type": "markdown",
      "source": [
        "Lets read in the data into a Pandas 'dataframe'. We'll see that this is a nifty datastruture. We'll take a look at the data frame shortly."
      ],
      "metadata": {
        "id": "ECRJiTWPBAKi"
      }
    },
    {
      "cell_type": "code",
      "source": [
        "df = pd.read_csv('/content/drive/MyDrive/XPro/rentals_weather.csv')"
      ],
      "metadata": {
        "id": "n38gY_0gJivd",
        "outputId": "1ae9b84e-edd3-4af5-e50a-82dfc26a3e6b",
        "colab": {
          "base_uri": "https://localhost:8080/",
          "height": 287
        }
      },
      "execution_count": 2,
      "outputs": [
        {
          "output_type": "error",
          "ename": "FileNotFoundError",
          "evalue": "[Errno 2] No such file or directory: '/content/drive/MyDrive/XPro/rentals_weather.csv'",
          "traceback": [
            "\u001b[0;31m---------------------------------------------------------------------------\u001b[0m",
            "\u001b[0;31mFileNotFoundError\u001b[0m                         Traceback (most recent call last)",
            "\u001b[0;32m<ipython-input-2-bd04633947d4>\u001b[0m in \u001b[0;36m<cell line: 0>\u001b[0;34m()\u001b[0m\n\u001b[0;32m----> 1\u001b[0;31m \u001b[0mdf\u001b[0m \u001b[0;34m=\u001b[0m \u001b[0mpd\u001b[0m\u001b[0;34m.\u001b[0m\u001b[0mread_csv\u001b[0m\u001b[0;34m(\u001b[0m\u001b[0;34m'/content/drive/MyDrive/XPro/rentals_weather.csv'\u001b[0m\u001b[0;34m)\u001b[0m\u001b[0;34m\u001b[0m\u001b[0;34m\u001b[0m\u001b[0m\n\u001b[0m",
            "\u001b[0;32m/usr/local/lib/python3.11/dist-packages/pandas/io/parsers/readers.py\u001b[0m in \u001b[0;36mread_csv\u001b[0;34m(filepath_or_buffer, sep, delimiter, header, names, index_col, usecols, dtype, engine, converters, true_values, false_values, skipinitialspace, skiprows, skipfooter, nrows, na_values, keep_default_na, na_filter, verbose, skip_blank_lines, parse_dates, infer_datetime_format, keep_date_col, date_parser, date_format, dayfirst, cache_dates, iterator, chunksize, compression, thousands, decimal, lineterminator, quotechar, quoting, doublequote, escapechar, comment, encoding, encoding_errors, dialect, on_bad_lines, delim_whitespace, low_memory, memory_map, float_precision, storage_options, dtype_backend)\u001b[0m\n\u001b[1;32m   1024\u001b[0m     \u001b[0mkwds\u001b[0m\u001b[0;34m.\u001b[0m\u001b[0mupdate\u001b[0m\u001b[0;34m(\u001b[0m\u001b[0mkwds_defaults\u001b[0m\u001b[0;34m)\u001b[0m\u001b[0;34m\u001b[0m\u001b[0;34m\u001b[0m\u001b[0m\n\u001b[1;32m   1025\u001b[0m \u001b[0;34m\u001b[0m\u001b[0m\n\u001b[0;32m-> 1026\u001b[0;31m     \u001b[0;32mreturn\u001b[0m \u001b[0m_read\u001b[0m\u001b[0;34m(\u001b[0m\u001b[0mfilepath_or_buffer\u001b[0m\u001b[0;34m,\u001b[0m \u001b[0mkwds\u001b[0m\u001b[0;34m)\u001b[0m\u001b[0;34m\u001b[0m\u001b[0;34m\u001b[0m\u001b[0m\n\u001b[0m\u001b[1;32m   1027\u001b[0m \u001b[0;34m\u001b[0m\u001b[0m\n\u001b[1;32m   1028\u001b[0m \u001b[0;34m\u001b[0m\u001b[0m\n",
            "\u001b[0;32m/usr/local/lib/python3.11/dist-packages/pandas/io/parsers/readers.py\u001b[0m in \u001b[0;36m_read\u001b[0;34m(filepath_or_buffer, kwds)\u001b[0m\n\u001b[1;32m    618\u001b[0m \u001b[0;34m\u001b[0m\u001b[0m\n\u001b[1;32m    619\u001b[0m     \u001b[0;31m# Create the parser.\u001b[0m\u001b[0;34m\u001b[0m\u001b[0;34m\u001b[0m\u001b[0m\n\u001b[0;32m--> 620\u001b[0;31m     \u001b[0mparser\u001b[0m \u001b[0;34m=\u001b[0m \u001b[0mTextFileReader\u001b[0m\u001b[0;34m(\u001b[0m\u001b[0mfilepath_or_buffer\u001b[0m\u001b[0;34m,\u001b[0m \u001b[0;34m**\u001b[0m\u001b[0mkwds\u001b[0m\u001b[0;34m)\u001b[0m\u001b[0;34m\u001b[0m\u001b[0;34m\u001b[0m\u001b[0m\n\u001b[0m\u001b[1;32m    621\u001b[0m \u001b[0;34m\u001b[0m\u001b[0m\n\u001b[1;32m    622\u001b[0m     \u001b[0;32mif\u001b[0m \u001b[0mchunksize\u001b[0m \u001b[0;32mor\u001b[0m \u001b[0miterator\u001b[0m\u001b[0;34m:\u001b[0m\u001b[0;34m\u001b[0m\u001b[0;34m\u001b[0m\u001b[0m\n",
            "\u001b[0;32m/usr/local/lib/python3.11/dist-packages/pandas/io/parsers/readers.py\u001b[0m in \u001b[0;36m__init__\u001b[0;34m(self, f, engine, **kwds)\u001b[0m\n\u001b[1;32m   1618\u001b[0m \u001b[0;34m\u001b[0m\u001b[0m\n\u001b[1;32m   1619\u001b[0m         \u001b[0mself\u001b[0m\u001b[0;34m.\u001b[0m\u001b[0mhandles\u001b[0m\u001b[0;34m:\u001b[0m \u001b[0mIOHandles\u001b[0m \u001b[0;34m|\u001b[0m \u001b[0;32mNone\u001b[0m \u001b[0;34m=\u001b[0m \u001b[0;32mNone\u001b[0m\u001b[0;34m\u001b[0m\u001b[0;34m\u001b[0m\u001b[0m\n\u001b[0;32m-> 1620\u001b[0;31m         \u001b[0mself\u001b[0m\u001b[0;34m.\u001b[0m\u001b[0m_engine\u001b[0m \u001b[0;34m=\u001b[0m \u001b[0mself\u001b[0m\u001b[0;34m.\u001b[0m\u001b[0m_make_engine\u001b[0m\u001b[0;34m(\u001b[0m\u001b[0mf\u001b[0m\u001b[0;34m,\u001b[0m \u001b[0mself\u001b[0m\u001b[0;34m.\u001b[0m\u001b[0mengine\u001b[0m\u001b[0;34m)\u001b[0m\u001b[0;34m\u001b[0m\u001b[0;34m\u001b[0m\u001b[0m\n\u001b[0m\u001b[1;32m   1621\u001b[0m \u001b[0;34m\u001b[0m\u001b[0m\n\u001b[1;32m   1622\u001b[0m     \u001b[0;32mdef\u001b[0m \u001b[0mclose\u001b[0m\u001b[0;34m(\u001b[0m\u001b[0mself\u001b[0m\u001b[0;34m)\u001b[0m \u001b[0;34m->\u001b[0m \u001b[0;32mNone\u001b[0m\u001b[0;34m:\u001b[0m\u001b[0;34m\u001b[0m\u001b[0;34m\u001b[0m\u001b[0m\n",
            "\u001b[0;32m/usr/local/lib/python3.11/dist-packages/pandas/io/parsers/readers.py\u001b[0m in \u001b[0;36m_make_engine\u001b[0;34m(self, f, engine)\u001b[0m\n\u001b[1;32m   1878\u001b[0m                 \u001b[0;32mif\u001b[0m \u001b[0;34m\"b\"\u001b[0m \u001b[0;32mnot\u001b[0m \u001b[0;32min\u001b[0m \u001b[0mmode\u001b[0m\u001b[0;34m:\u001b[0m\u001b[0;34m\u001b[0m\u001b[0;34m\u001b[0m\u001b[0m\n\u001b[1;32m   1879\u001b[0m                     \u001b[0mmode\u001b[0m \u001b[0;34m+=\u001b[0m \u001b[0;34m\"b\"\u001b[0m\u001b[0;34m\u001b[0m\u001b[0;34m\u001b[0m\u001b[0m\n\u001b[0;32m-> 1880\u001b[0;31m             self.handles = get_handle(\n\u001b[0m\u001b[1;32m   1881\u001b[0m                 \u001b[0mf\u001b[0m\u001b[0;34m,\u001b[0m\u001b[0;34m\u001b[0m\u001b[0;34m\u001b[0m\u001b[0m\n\u001b[1;32m   1882\u001b[0m                 \u001b[0mmode\u001b[0m\u001b[0;34m,\u001b[0m\u001b[0;34m\u001b[0m\u001b[0;34m\u001b[0m\u001b[0m\n",
            "\u001b[0;32m/usr/local/lib/python3.11/dist-packages/pandas/io/common.py\u001b[0m in \u001b[0;36mget_handle\u001b[0;34m(path_or_buf, mode, encoding, compression, memory_map, is_text, errors, storage_options)\u001b[0m\n\u001b[1;32m    871\u001b[0m         \u001b[0;32mif\u001b[0m \u001b[0mioargs\u001b[0m\u001b[0;34m.\u001b[0m\u001b[0mencoding\u001b[0m \u001b[0;32mand\u001b[0m \u001b[0;34m\"b\"\u001b[0m \u001b[0;32mnot\u001b[0m \u001b[0;32min\u001b[0m \u001b[0mioargs\u001b[0m\u001b[0;34m.\u001b[0m\u001b[0mmode\u001b[0m\u001b[0;34m:\u001b[0m\u001b[0;34m\u001b[0m\u001b[0;34m\u001b[0m\u001b[0m\n\u001b[1;32m    872\u001b[0m             \u001b[0;31m# Encoding\u001b[0m\u001b[0;34m\u001b[0m\u001b[0;34m\u001b[0m\u001b[0m\n\u001b[0;32m--> 873\u001b[0;31m             handle = open(\n\u001b[0m\u001b[1;32m    874\u001b[0m                 \u001b[0mhandle\u001b[0m\u001b[0;34m,\u001b[0m\u001b[0;34m\u001b[0m\u001b[0;34m\u001b[0m\u001b[0m\n\u001b[1;32m    875\u001b[0m                 \u001b[0mioargs\u001b[0m\u001b[0;34m.\u001b[0m\u001b[0mmode\u001b[0m\u001b[0;34m,\u001b[0m\u001b[0;34m\u001b[0m\u001b[0;34m\u001b[0m\u001b[0m\n",
            "\u001b[0;31mFileNotFoundError\u001b[0m: [Errno 2] No such file or directory: '/content/drive/MyDrive/XPro/rentals_weather.csv'"
          ]
        }
      ]
    },
    {
      "cell_type": "code",
      "source": [
        "df.head(6)"
      ],
      "metadata": {
        "id": "dA0BhU6gJ5cj"
      },
      "execution_count": null,
      "outputs": []
    },
    {
      "cell_type": "code",
      "source": [
        "df.tail(6)"
      ],
      "metadata": {
        "colab": {
          "base_uri": "https://localhost:8080/",
          "height": 237
        },
        "id": "kFs4HfoRJ9oQ",
        "outputId": "e67bb5d1-6212-4f75-80c3-9bf11888b298"
      },
      "execution_count": null,
      "outputs": [
        {
          "output_type": "execute_result",
          "data": {
            "text/plain": [
              "      rentals  month  day  hour day_of_week  weekend  temp  temp_wb  \\\n",
              "8597       69     12   31    18         Mon        0    42       37   \n",
              "8598       36     12   31    19         Mon        0    39       36   \n",
              "8599       25     12   31    20         Mon        0    38       36   \n",
              "8600       13     12   31    21         Mon        0    37       36   \n",
              "8601        6     12   31    22         Mon        0    38       37   \n",
              "8602        7     12   31    23         Mon        0    39       38   \n",
              "\n",
              "      rel_humidity  windspeed  precipitation  \n",
              "8597            60         10           0.00  \n",
              "8598            76         13           0.02  \n",
              "8599            86         14           0.04  \n",
              "8600            89         15           0.07  \n",
              "8601            89         14           0.09  \n",
              "8602            89         17           0.19  "
            ],
            "text/html": [
              "\n",
              "  <div id=\"df-549ed611-6245-4641-b22e-12af960b19ea\">\n",
              "    <div class=\"colab-df-container\">\n",
              "      <div>\n",
              "<style scoped>\n",
              "    .dataframe tbody tr th:only-of-type {\n",
              "        vertical-align: middle;\n",
              "    }\n",
              "\n",
              "    .dataframe tbody tr th {\n",
              "        vertical-align: top;\n",
              "    }\n",
              "\n",
              "    .dataframe thead th {\n",
              "        text-align: right;\n",
              "    }\n",
              "</style>\n",
              "<table border=\"1\" class=\"dataframe\">\n",
              "  <thead>\n",
              "    <tr style=\"text-align: right;\">\n",
              "      <th></th>\n",
              "      <th>rentals</th>\n",
              "      <th>month</th>\n",
              "      <th>day</th>\n",
              "      <th>hour</th>\n",
              "      <th>day_of_week</th>\n",
              "      <th>weekend</th>\n",
              "      <th>temp</th>\n",
              "      <th>temp_wb</th>\n",
              "      <th>rel_humidity</th>\n",
              "      <th>windspeed</th>\n",
              "      <th>precipitation</th>\n",
              "    </tr>\n",
              "  </thead>\n",
              "  <tbody>\n",
              "    <tr>\n",
              "      <th>8597</th>\n",
              "      <td>69</td>\n",
              "      <td>12</td>\n",
              "      <td>31</td>\n",
              "      <td>18</td>\n",
              "      <td>Mon</td>\n",
              "      <td>0</td>\n",
              "      <td>42</td>\n",
              "      <td>37</td>\n",
              "      <td>60</td>\n",
              "      <td>10</td>\n",
              "      <td>0.00</td>\n",
              "    </tr>\n",
              "    <tr>\n",
              "      <th>8598</th>\n",
              "      <td>36</td>\n",
              "      <td>12</td>\n",
              "      <td>31</td>\n",
              "      <td>19</td>\n",
              "      <td>Mon</td>\n",
              "      <td>0</td>\n",
              "      <td>39</td>\n",
              "      <td>36</td>\n",
              "      <td>76</td>\n",
              "      <td>13</td>\n",
              "      <td>0.02</td>\n",
              "    </tr>\n",
              "    <tr>\n",
              "      <th>8599</th>\n",
              "      <td>25</td>\n",
              "      <td>12</td>\n",
              "      <td>31</td>\n",
              "      <td>20</td>\n",
              "      <td>Mon</td>\n",
              "      <td>0</td>\n",
              "      <td>38</td>\n",
              "      <td>36</td>\n",
              "      <td>86</td>\n",
              "      <td>14</td>\n",
              "      <td>0.04</td>\n",
              "    </tr>\n",
              "    <tr>\n",
              "      <th>8600</th>\n",
              "      <td>13</td>\n",
              "      <td>12</td>\n",
              "      <td>31</td>\n",
              "      <td>21</td>\n",
              "      <td>Mon</td>\n",
              "      <td>0</td>\n",
              "      <td>37</td>\n",
              "      <td>36</td>\n",
              "      <td>89</td>\n",
              "      <td>15</td>\n",
              "      <td>0.07</td>\n",
              "    </tr>\n",
              "    <tr>\n",
              "      <th>8601</th>\n",
              "      <td>6</td>\n",
              "      <td>12</td>\n",
              "      <td>31</td>\n",
              "      <td>22</td>\n",
              "      <td>Mon</td>\n",
              "      <td>0</td>\n",
              "      <td>38</td>\n",
              "      <td>37</td>\n",
              "      <td>89</td>\n",
              "      <td>14</td>\n",
              "      <td>0.09</td>\n",
              "    </tr>\n",
              "    <tr>\n",
              "      <th>8602</th>\n",
              "      <td>7</td>\n",
              "      <td>12</td>\n",
              "      <td>31</td>\n",
              "      <td>23</td>\n",
              "      <td>Mon</td>\n",
              "      <td>0</td>\n",
              "      <td>39</td>\n",
              "      <td>38</td>\n",
              "      <td>89</td>\n",
              "      <td>17</td>\n",
              "      <td>0.19</td>\n",
              "    </tr>\n",
              "  </tbody>\n",
              "</table>\n",
              "</div>\n",
              "      <button class=\"colab-df-convert\" onclick=\"convertToInteractive('df-549ed611-6245-4641-b22e-12af960b19ea')\"\n",
              "              title=\"Convert this dataframe to an interactive table.\"\n",
              "              style=\"display:none;\">\n",
              "        \n",
              "  <svg xmlns=\"http://www.w3.org/2000/svg\" height=\"24px\"viewBox=\"0 0 24 24\"\n",
              "       width=\"24px\">\n",
              "    <path d=\"M0 0h24v24H0V0z\" fill=\"none\"/>\n",
              "    <path d=\"M18.56 5.44l.94 2.06.94-2.06 2.06-.94-2.06-.94-.94-2.06-.94 2.06-2.06.94zm-11 1L8.5 8.5l.94-2.06 2.06-.94-2.06-.94L8.5 2.5l-.94 2.06-2.06.94zm10 10l.94 2.06.94-2.06 2.06-.94-2.06-.94-.94-2.06-.94 2.06-2.06.94z\"/><path d=\"M17.41 7.96l-1.37-1.37c-.4-.4-.92-.59-1.43-.59-.52 0-1.04.2-1.43.59L10.3 9.45l-7.72 7.72c-.78.78-.78 2.05 0 2.83L4 21.41c.39.39.9.59 1.41.59.51 0 1.02-.2 1.41-.59l7.78-7.78 2.81-2.81c.8-.78.8-2.07 0-2.86zM5.41 20L4 18.59l7.72-7.72 1.47 1.35L5.41 20z\"/>\n",
              "  </svg>\n",
              "      </button>\n",
              "      \n",
              "  <style>\n",
              "    .colab-df-container {\n",
              "      display:flex;\n",
              "      flex-wrap:wrap;\n",
              "      gap: 12px;\n",
              "    }\n",
              "\n",
              "    .colab-df-convert {\n",
              "      background-color: #E8F0FE;\n",
              "      border: none;\n",
              "      border-radius: 50%;\n",
              "      cursor: pointer;\n",
              "      display: none;\n",
              "      fill: #1967D2;\n",
              "      height: 32px;\n",
              "      padding: 0 0 0 0;\n",
              "      width: 32px;\n",
              "    }\n",
              "\n",
              "    .colab-df-convert:hover {\n",
              "      background-color: #E2EBFA;\n",
              "      box-shadow: 0px 1px 2px rgba(60, 64, 67, 0.3), 0px 1px 3px 1px rgba(60, 64, 67, 0.15);\n",
              "      fill: #174EA6;\n",
              "    }\n",
              "\n",
              "    [theme=dark] .colab-df-convert {\n",
              "      background-color: #3B4455;\n",
              "      fill: #D2E3FC;\n",
              "    }\n",
              "\n",
              "    [theme=dark] .colab-df-convert:hover {\n",
              "      background-color: #434B5C;\n",
              "      box-shadow: 0px 1px 3px 1px rgba(0, 0, 0, 0.15);\n",
              "      filter: drop-shadow(0px 1px 2px rgba(0, 0, 0, 0.3));\n",
              "      fill: #FFFFFF;\n",
              "    }\n",
              "  </style>\n",
              "\n",
              "      <script>\n",
              "        const buttonEl =\n",
              "          document.querySelector('#df-549ed611-6245-4641-b22e-12af960b19ea button.colab-df-convert');\n",
              "        buttonEl.style.display =\n",
              "          google.colab.kernel.accessAllowed ? 'block' : 'none';\n",
              "\n",
              "        async function convertToInteractive(key) {\n",
              "          const element = document.querySelector('#df-549ed611-6245-4641-b22e-12af960b19ea');\n",
              "          const dataTable =\n",
              "            await google.colab.kernel.invokeFunction('convertToInteractive',\n",
              "                                                     [key], {});\n",
              "          if (!dataTable) return;\n",
              "\n",
              "          const docLinkHtml = 'Like what you see? Visit the ' +\n",
              "            '<a target=\"_blank\" href=https://colab.research.google.com/notebooks/data_table.ipynb>data table notebook</a>'\n",
              "            + ' to learn more about interactive tables.';\n",
              "          element.innerHTML = '';\n",
              "          dataTable['output_type'] = 'display_data';\n",
              "          await google.colab.output.renderOutput(dataTable, element);\n",
              "          const docLink = document.createElement('div');\n",
              "          docLink.innerHTML = docLinkHtml;\n",
              "          element.appendChild(docLink);\n",
              "        }\n",
              "      </script>\n",
              "    </div>\n",
              "  </div>\n",
              "  "
            ]
          },
          "metadata": {},
          "execution_count": 7
        }
      ]
    },
    {
      "cell_type": "markdown",
      "source": [
        "Looking at the data, its clear that things like 'day_of_week' or 'day' are not truly numerical (in the sense of a temperature or a price) but rather *categorical*. So we go ahead an declare those columns of the dataframe as such."
      ],
      "metadata": {
        "id": "qcSZiU8jBgvH"
      }
    },
    {
      "cell_type": "code",
      "source": [
        "categorical_variables = ['month','day','hour','day_of_week','weekend']\n",
        "df[categorical_variables] = df[categorical_variables].astype('category')"
      ],
      "metadata": {
        "id": "fcjUxo8GN9Jr"
      },
      "execution_count": null,
      "outputs": []
    },
    {
      "cell_type": "code",
      "source": [
        "skim(df)"
      ],
      "metadata": {
        "colab": {
          "base_uri": "https://localhost:8080/",
          "height": 606
        },
        "id": "Y-5RA35LMvof",
        "outputId": "d8c67cea-f90f-4fac-96ef-24ad1494a249"
      },
      "execution_count": null,
      "outputs": [
        {
          "output_type": "display_data",
          "data": {
            "text/plain": [
              "╭───────────────────────────────────── skimpy summary ──────────────────────────────────────╮\n",
              "│ \u001b[3m         Data Summary         \u001b[0m \u001b[3m      Data Types       \u001b[0m \u001b[3m       Categories        \u001b[0m          │\n",
              "│ ┏━━━━━━━━━━━━━━━━━━━┳━━━━━━━━┓ ┏━━━━━━━━━━━━━┳━━━━━━━┓ ┏━━━━━━━━━━━━━━━━━━━━━━━┓          │\n",
              "│ ┃\u001b[1;36m \u001b[0m\u001b[1;36mdataframe        \u001b[0m\u001b[1;36m \u001b[0m┃\u001b[1;36m \u001b[0m\u001b[1;36mValues\u001b[0m\u001b[1;36m \u001b[0m┃ ┃\u001b[1;36m \u001b[0m\u001b[1;36mColumn Type\u001b[0m\u001b[1;36m \u001b[0m┃\u001b[1;36m \u001b[0m\u001b[1;36mCount\u001b[0m\u001b[1;36m \u001b[0m┃ ┃\u001b[1;36m \u001b[0m\u001b[1;36mCategorical Variables\u001b[0m\u001b[1;36m \u001b[0m┃          │\n",
              "│ ┡━━━━━━━━━━━━━━━━━━━╇━━━━━━━━┩ ┡━━━━━━━━━━━━━╇━━━━━━━┩ ┡━━━━━━━━━━━━━━━━━━━━━━━┩          │\n",
              "│ │ Number of rows    │ 8603   │ │ int64       │ 5     │ │ month                 │          │\n",
              "│ │ Number of columns │ 11     │ │ category    │ 5     │ │ day                   │          │\n",
              "│ └───────────────────┴────────┘ │ float64     │ 1     │ │ hour                  │          │\n",
              "│                                └─────────────┴───────┘ │ day_of_week           │          │\n",
              "│                                                        │ weekend               │          │\n",
              "│                                                        └───────────────────────┘          │\n",
              "│ \u001b[3m                                         number                                         \u001b[0m  │\n",
              "│ ┏━━━━━━━━━━━━━┳━━━━━━━━━┳━━━━━━━━━━━━┳━━━━━━━━┳━━━━━━━┳━━━━┳━━━━━┳━━━━━┳━━━━━━┳━━━━━━━━┓  │\n",
              "│ ┃\u001b[1m \u001b[0m\u001b[1m           \u001b[0m\u001b[1m \u001b[0m┃\u001b[1m \u001b[0m\u001b[1mmissing\u001b[0m\u001b[1m \u001b[0m┃\u001b[1m \u001b[0m\u001b[1mcomplete  \u001b[0m\u001b[1m \u001b[0m┃\u001b[1m \u001b[0m\u001b[1mmean  \u001b[0m\u001b[1m \u001b[0m┃\u001b[1m \u001b[0m\u001b[1msd   \u001b[0m\u001b[1m \u001b[0m┃\u001b[1m \u001b[0m\u001b[1mp0\u001b[0m\u001b[1m \u001b[0m┃\u001b[1m \u001b[0m\u001b[1mp25\u001b[0m\u001b[1m \u001b[0m┃\u001b[1m \u001b[0m\u001b[1mp75\u001b[0m\u001b[1m \u001b[0m┃\u001b[1m \u001b[0m\u001b[1mp100\u001b[0m\u001b[1m \u001b[0m┃\u001b[1m \u001b[0m\u001b[1mhist  \u001b[0m\u001b[1m \u001b[0m┃  │\n",
              "│ ┃             ┃         ┃\u001b[1m \u001b[0m\u001b[1mrate      \u001b[0m\u001b[1m \u001b[0m┃        ┃       ┃    ┃     ┃     ┃      ┃        ┃  │\n",
              "│ ┡━━━━━━━━━━━━━╇━━━━━━━━━╇━━━━━━━━━━━━╇━━━━━━━━╇━━━━━━━╇━━━━╇━━━━━╇━━━━━╇━━━━━━╇━━━━━━━━┩  │\n",
              "│ │ \u001b[38;5;141mrentals    \u001b[0m │ \u001b[36m      0\u001b[0m │ \u001b[36m         1\u001b[0m │ \u001b[36m   210\u001b[0m │ \u001b[36m  230\u001b[0m │ \u001b[36m 1\u001b[0m │ \u001b[36m 32\u001b[0m │ \u001b[36m310\u001b[0m │ \u001b[36m1300\u001b[0m │ \u001b[32m █▃▁  \u001b[0m │  │\n",
              "│ │ \u001b[38;5;141mtemp       \u001b[0m │ \u001b[36m      0\u001b[0m │ \u001b[36m         1\u001b[0m │ \u001b[36m    53\u001b[0m │ \u001b[36m   18\u001b[0m │ \u001b[36m-2\u001b[0m │ \u001b[36m 38\u001b[0m │ \u001b[36m 69\u001b[0m │ \u001b[36m  97\u001b[0m │ \u001b[32m ▂█▆▇▂\u001b[0m │  │\n",
              "│ │ \u001b[38;5;141mtemp_wb    \u001b[0m │ \u001b[36m      0\u001b[0m │ \u001b[36m         1\u001b[0m │ \u001b[36m    48\u001b[0m │ \u001b[36m   17\u001b[0m │ \u001b[36m-3\u001b[0m │ \u001b[36m 34\u001b[0m │ \u001b[36m 62\u001b[0m │ \u001b[36m  81\u001b[0m │ \u001b[32m ▂█▇█▅\u001b[0m │  │\n",
              "│ │ \u001b[38;5;141mrel_humidit\u001b[0m │ \u001b[36m      0\u001b[0m │ \u001b[36m         1\u001b[0m │ \u001b[36m    67\u001b[0m │ \u001b[36m   19\u001b[0m │ \u001b[36m16\u001b[0m │ \u001b[36m 53\u001b[0m │ \u001b[36m 84\u001b[0m │ \u001b[36m 100\u001b[0m │ \u001b[32m▁▃▇█▇▇\u001b[0m │  │\n",
              "│ │ \u001b[38;5;141my          \u001b[0m │         │            │        │       │    │     │     │      │        │  │\n",
              "│ │ \u001b[38;5;141mwindspeed  \u001b[0m │ \u001b[36m      0\u001b[0m │ \u001b[36m         1\u001b[0m │ \u001b[36m    11\u001b[0m │ \u001b[36m  5.5\u001b[0m │ \u001b[36m 0\u001b[0m │ \u001b[36m  7\u001b[0m │ \u001b[36m 14\u001b[0m │ \u001b[36m  48\u001b[0m │ \u001b[32m ▄█▂  \u001b[0m │  │\n",
              "│ │ \u001b[38;5;141mprecipitati\u001b[0m │ \u001b[36m      0\u001b[0m │ \u001b[36m         1\u001b[0m │ \u001b[36m0.0054\u001b[0m │ \u001b[36m0.034\u001b[0m │ \u001b[36m 0\u001b[0m │ \u001b[36m  0\u001b[0m │ \u001b[36m  0\u001b[0m │ \u001b[36m 1.1\u001b[0m │ \u001b[32m  █   \u001b[0m │  │\n",
              "│ │ \u001b[38;5;141mon         \u001b[0m │         │            │        │       │    │     │     │      │        │  │\n",
              "│ └─────────────┴─────────┴────────────┴────────┴───────┴────┴─────┴─────┴──────┴────────┘  │\n",
              "│ \u001b[3m                                        category                                        \u001b[0m  │\n",
              "│ ┏━━━━━━━━━━━━━━━━━━━━┳━━━━━━━━━━━━━━┳━━━━━━━━━━━━━━━━━━━━━━━┳━━━━━━━━━━━━━━┳━━━━━━━━━━━┓  │\n",
              "│ ┃\u001b[1m \u001b[0m\u001b[1m                  \u001b[0m\u001b[1m \u001b[0m┃\u001b[1m \u001b[0m\u001b[1mmissing     \u001b[0m\u001b[1m \u001b[0m┃\u001b[1m \u001b[0m\u001b[1mcomplete rate        \u001b[0m\u001b[1m \u001b[0m┃\u001b[1m \u001b[0m\u001b[1mordered     \u001b[0m\u001b[1m \u001b[0m┃\u001b[1m \u001b[0m\u001b[1munique   \u001b[0m\u001b[1m \u001b[0m┃  │\n",
              "│ ┡━━━━━━━━━━━━━━━━━━━━╇━━━━━━━━━━━━━━╇━━━━━━━━━━━━━━━━━━━━━━━╇━━━━━━━━━━━━━━╇━━━━━━━━━━━┩  │\n",
              "│ │ \u001b[38;5;141mmonth             \u001b[0m │ \u001b[36m           0\u001b[0m │ \u001b[36m                    1\u001b[0m │ \u001b[38;5;45mFalse       \u001b[0m │ \u001b[36m       12\u001b[0m │  │\n",
              "│ │ \u001b[38;5;141mday               \u001b[0m │ \u001b[36m           0\u001b[0m │ \u001b[36m                    1\u001b[0m │ \u001b[38;5;45mFalse       \u001b[0m │ \u001b[36m       31\u001b[0m │  │\n",
              "│ │ \u001b[38;5;141mhour              \u001b[0m │ \u001b[36m           0\u001b[0m │ \u001b[36m                    1\u001b[0m │ \u001b[38;5;45mFalse       \u001b[0m │ \u001b[36m       24\u001b[0m │  │\n",
              "│ │ \u001b[38;5;141mday_of_week       \u001b[0m │ \u001b[36m           0\u001b[0m │ \u001b[36m                    1\u001b[0m │ \u001b[38;5;45mFalse       \u001b[0m │ \u001b[36m        7\u001b[0m │  │\n",
              "│ │ \u001b[38;5;141mweekend           \u001b[0m │ \u001b[36m           0\u001b[0m │ \u001b[36m                    1\u001b[0m │ \u001b[38;5;45mFalse       \u001b[0m │ \u001b[36m        2\u001b[0m │  │\n",
              "│ └────────────────────┴──────────────┴───────────────────────┴──────────────┴───────────┘  │\n",
              "╰─────────────────────────────────────────── End ───────────────────────────────────────────╯\n"
            ],
            "text/html": [
              "<pre style=\"white-space:pre;overflow-x:auto;line-height:normal;font-family:Menlo,'DejaVu Sans Mono',consolas,'Courier New',monospace\">╭───────────────────────────────────── skimpy summary ──────────────────────────────────────╮\n",
              "│ <span style=\"font-style: italic\">         Data Summary         </span> <span style=\"font-style: italic\">      Data Types       </span> <span style=\"font-style: italic\">       Categories        </span>          │\n",
              "│ ┏━━━━━━━━━━━━━━━━━━━┳━━━━━━━━┓ ┏━━━━━━━━━━━━━┳━━━━━━━┓ ┏━━━━━━━━━━━━━━━━━━━━━━━┓          │\n",
              "│ ┃<span style=\"color: #008080; text-decoration-color: #008080; font-weight: bold\"> dataframe         </span>┃<span style=\"color: #008080; text-decoration-color: #008080; font-weight: bold\"> Values </span>┃ ┃<span style=\"color: #008080; text-decoration-color: #008080; font-weight: bold\"> Column Type </span>┃<span style=\"color: #008080; text-decoration-color: #008080; font-weight: bold\"> Count </span>┃ ┃<span style=\"color: #008080; text-decoration-color: #008080; font-weight: bold\"> Categorical Variables </span>┃          │\n",
              "│ ┡━━━━━━━━━━━━━━━━━━━╇━━━━━━━━┩ ┡━━━━━━━━━━━━━╇━━━━━━━┩ ┡━━━━━━━━━━━━━━━━━━━━━━━┩          │\n",
              "│ │ Number of rows    │ 8603   │ │ int64       │ 5     │ │ month                 │          │\n",
              "│ │ Number of columns │ 11     │ │ category    │ 5     │ │ day                   │          │\n",
              "│ └───────────────────┴────────┘ │ float64     │ 1     │ │ hour                  │          │\n",
              "│                                └─────────────┴───────┘ │ day_of_week           │          │\n",
              "│                                                        │ weekend               │          │\n",
              "│                                                        └───────────────────────┘          │\n",
              "│ <span style=\"font-style: italic\">                                         number                                         </span>  │\n",
              "│ ┏━━━━━━━━━━━━━┳━━━━━━━━━┳━━━━━━━━━━━━┳━━━━━━━━┳━━━━━━━┳━━━━┳━━━━━┳━━━━━┳━━━━━━┳━━━━━━━━┓  │\n",
              "│ ┃<span style=\"font-weight: bold\">             </span>┃<span style=\"font-weight: bold\"> missing </span>┃<span style=\"font-weight: bold\"> complete   </span>┃<span style=\"font-weight: bold\"> mean   </span>┃<span style=\"font-weight: bold\"> sd    </span>┃<span style=\"font-weight: bold\"> p0 </span>┃<span style=\"font-weight: bold\"> p25 </span>┃<span style=\"font-weight: bold\"> p75 </span>┃<span style=\"font-weight: bold\"> p100 </span>┃<span style=\"font-weight: bold\"> hist   </span>┃  │\n",
              "│ ┃             ┃         ┃<span style=\"font-weight: bold\"> rate       </span>┃        ┃       ┃    ┃     ┃     ┃      ┃        ┃  │\n",
              "│ ┡━━━━━━━━━━━━━╇━━━━━━━━━╇━━━━━━━━━━━━╇━━━━━━━━╇━━━━━━━╇━━━━╇━━━━━╇━━━━━╇━━━━━━╇━━━━━━━━┩  │\n",
              "│ │ <span style=\"color: #af87ff; text-decoration-color: #af87ff\">rentals    </span> │ <span style=\"color: #008080; text-decoration-color: #008080\">      0</span> │ <span style=\"color: #008080; text-decoration-color: #008080\">         1</span> │ <span style=\"color: #008080; text-decoration-color: #008080\">   210</span> │ <span style=\"color: #008080; text-decoration-color: #008080\">  230</span> │ <span style=\"color: #008080; text-decoration-color: #008080\"> 1</span> │ <span style=\"color: #008080; text-decoration-color: #008080\"> 32</span> │ <span style=\"color: #008080; text-decoration-color: #008080\">310</span> │ <span style=\"color: #008080; text-decoration-color: #008080\">1300</span> │ <span style=\"color: #008000; text-decoration-color: #008000\"> █▃▁  </span> │  │\n",
              "│ │ <span style=\"color: #af87ff; text-decoration-color: #af87ff\">temp       </span> │ <span style=\"color: #008080; text-decoration-color: #008080\">      0</span> │ <span style=\"color: #008080; text-decoration-color: #008080\">         1</span> │ <span style=\"color: #008080; text-decoration-color: #008080\">    53</span> │ <span style=\"color: #008080; text-decoration-color: #008080\">   18</span> │ <span style=\"color: #008080; text-decoration-color: #008080\">-2</span> │ <span style=\"color: #008080; text-decoration-color: #008080\"> 38</span> │ <span style=\"color: #008080; text-decoration-color: #008080\"> 69</span> │ <span style=\"color: #008080; text-decoration-color: #008080\">  97</span> │ <span style=\"color: #008000; text-decoration-color: #008000\"> ▂█▆▇▂</span> │  │\n",
              "│ │ <span style=\"color: #af87ff; text-decoration-color: #af87ff\">temp_wb    </span> │ <span style=\"color: #008080; text-decoration-color: #008080\">      0</span> │ <span style=\"color: #008080; text-decoration-color: #008080\">         1</span> │ <span style=\"color: #008080; text-decoration-color: #008080\">    48</span> │ <span style=\"color: #008080; text-decoration-color: #008080\">   17</span> │ <span style=\"color: #008080; text-decoration-color: #008080\">-3</span> │ <span style=\"color: #008080; text-decoration-color: #008080\"> 34</span> │ <span style=\"color: #008080; text-decoration-color: #008080\"> 62</span> │ <span style=\"color: #008080; text-decoration-color: #008080\">  81</span> │ <span style=\"color: #008000; text-decoration-color: #008000\"> ▂█▇█▅</span> │  │\n",
              "│ │ <span style=\"color: #af87ff; text-decoration-color: #af87ff\">rel_humidit</span> │ <span style=\"color: #008080; text-decoration-color: #008080\">      0</span> │ <span style=\"color: #008080; text-decoration-color: #008080\">         1</span> │ <span style=\"color: #008080; text-decoration-color: #008080\">    67</span> │ <span style=\"color: #008080; text-decoration-color: #008080\">   19</span> │ <span style=\"color: #008080; text-decoration-color: #008080\">16</span> │ <span style=\"color: #008080; text-decoration-color: #008080\"> 53</span> │ <span style=\"color: #008080; text-decoration-color: #008080\"> 84</span> │ <span style=\"color: #008080; text-decoration-color: #008080\"> 100</span> │ <span style=\"color: #008000; text-decoration-color: #008000\">▁▃▇█▇▇</span> │  │\n",
              "│ │ <span style=\"color: #af87ff; text-decoration-color: #af87ff\">y          </span> │         │            │        │       │    │     │     │      │        │  │\n",
              "│ │ <span style=\"color: #af87ff; text-decoration-color: #af87ff\">windspeed  </span> │ <span style=\"color: #008080; text-decoration-color: #008080\">      0</span> │ <span style=\"color: #008080; text-decoration-color: #008080\">         1</span> │ <span style=\"color: #008080; text-decoration-color: #008080\">    11</span> │ <span style=\"color: #008080; text-decoration-color: #008080\">  5.5</span> │ <span style=\"color: #008080; text-decoration-color: #008080\"> 0</span> │ <span style=\"color: #008080; text-decoration-color: #008080\">  7</span> │ <span style=\"color: #008080; text-decoration-color: #008080\"> 14</span> │ <span style=\"color: #008080; text-decoration-color: #008080\">  48</span> │ <span style=\"color: #008000; text-decoration-color: #008000\"> ▄█▂  </span> │  │\n",
              "│ │ <span style=\"color: #af87ff; text-decoration-color: #af87ff\">precipitati</span> │ <span style=\"color: #008080; text-decoration-color: #008080\">      0</span> │ <span style=\"color: #008080; text-decoration-color: #008080\">         1</span> │ <span style=\"color: #008080; text-decoration-color: #008080\">0.0054</span> │ <span style=\"color: #008080; text-decoration-color: #008080\">0.034</span> │ <span style=\"color: #008080; text-decoration-color: #008080\"> 0</span> │ <span style=\"color: #008080; text-decoration-color: #008080\">  0</span> │ <span style=\"color: #008080; text-decoration-color: #008080\">  0</span> │ <span style=\"color: #008080; text-decoration-color: #008080\"> 1.1</span> │ <span style=\"color: #008000; text-decoration-color: #008000\">  █   </span> │  │\n",
              "│ │ <span style=\"color: #af87ff; text-decoration-color: #af87ff\">on         </span> │         │            │        │       │    │     │     │      │        │  │\n",
              "│ └─────────────┴─────────┴────────────┴────────┴───────┴────┴─────┴─────┴──────┴────────┘  │\n",
              "│ <span style=\"font-style: italic\">                                        category                                        </span>  │\n",
              "│ ┏━━━━━━━━━━━━━━━━━━━━┳━━━━━━━━━━━━━━┳━━━━━━━━━━━━━━━━━━━━━━━┳━━━━━━━━━━━━━━┳━━━━━━━━━━━┓  │\n",
              "│ ┃<span style=\"font-weight: bold\">                    </span>┃<span style=\"font-weight: bold\"> missing      </span>┃<span style=\"font-weight: bold\"> complete rate         </span>┃<span style=\"font-weight: bold\"> ordered      </span>┃<span style=\"font-weight: bold\"> unique    </span>┃  │\n",
              "│ ┡━━━━━━━━━━━━━━━━━━━━╇━━━━━━━━━━━━━━╇━━━━━━━━━━━━━━━━━━━━━━━╇━━━━━━━━━━━━━━╇━━━━━━━━━━━┩  │\n",
              "│ │ <span style=\"color: #af87ff; text-decoration-color: #af87ff\">month             </span> │ <span style=\"color: #008080; text-decoration-color: #008080\">           0</span> │ <span style=\"color: #008080; text-decoration-color: #008080\">                    1</span> │ <span style=\"color: #00d7ff; text-decoration-color: #00d7ff\">False       </span> │ <span style=\"color: #008080; text-decoration-color: #008080\">       12</span> │  │\n",
              "│ │ <span style=\"color: #af87ff; text-decoration-color: #af87ff\">day               </span> │ <span style=\"color: #008080; text-decoration-color: #008080\">           0</span> │ <span style=\"color: #008080; text-decoration-color: #008080\">                    1</span> │ <span style=\"color: #00d7ff; text-decoration-color: #00d7ff\">False       </span> │ <span style=\"color: #008080; text-decoration-color: #008080\">       31</span> │  │\n",
              "│ │ <span style=\"color: #af87ff; text-decoration-color: #af87ff\">hour              </span> │ <span style=\"color: #008080; text-decoration-color: #008080\">           0</span> │ <span style=\"color: #008080; text-decoration-color: #008080\">                    1</span> │ <span style=\"color: #00d7ff; text-decoration-color: #00d7ff\">False       </span> │ <span style=\"color: #008080; text-decoration-color: #008080\">       24</span> │  │\n",
              "│ │ <span style=\"color: #af87ff; text-decoration-color: #af87ff\">day_of_week       </span> │ <span style=\"color: #008080; text-decoration-color: #008080\">           0</span> │ <span style=\"color: #008080; text-decoration-color: #008080\">                    1</span> │ <span style=\"color: #00d7ff; text-decoration-color: #00d7ff\">False       </span> │ <span style=\"color: #008080; text-decoration-color: #008080\">        7</span> │  │\n",
              "│ │ <span style=\"color: #af87ff; text-decoration-color: #af87ff\">weekend           </span> │ <span style=\"color: #008080; text-decoration-color: #008080\">           0</span> │ <span style=\"color: #008080; text-decoration-color: #008080\">                    1</span> │ <span style=\"color: #00d7ff; text-decoration-color: #00d7ff\">False       </span> │ <span style=\"color: #008080; text-decoration-color: #008080\">        2</span> │  │\n",
              "│ └────────────────────┴──────────────┴───────────────────────┴──────────────┴───────────┘  │\n",
              "╰─────────────────────────────────────────── End ───────────────────────────────────────────╯\n",
              "</pre>\n"
            ]
          },
          "metadata": {}
        }
      ]
    },
    {
      "cell_type": "markdown",
      "source": [
        "Lets produce a histogram of rentals data. We've selected bins based on what we saw of the data from the summary we gleaned using 'skim'."
      ],
      "metadata": {
        "id": "UiHUmW_PCHl7"
      }
    },
    {
      "cell_type": "code",
      "source": [
        "plt.hist(df['rentals'], bins = range(0,1400,50))\n",
        "plt.title('Rentals Data')\n",
        "plt.xlabel('Number of Rentals')\n",
        "plt.ylabel('Number of Data Points')"
      ],
      "metadata": {
        "colab": {
          "base_uri": "https://localhost:8080/",
          "height": 312
        },
        "id": "6e9rjOA2OlRa",
        "outputId": "c8ec7cc7-6f10-4a32-ad57-667d57553cc6"
      },
      "execution_count": null,
      "outputs": [
        {
          "output_type": "execute_result",
          "data": {
            "text/plain": [
              "Text(0, 0.5, 'Number of Data Points')"
            ]
          },
          "metadata": {},
          "execution_count": 10
        },
        {
          "output_type": "display_data",
          "data": {
            "text/plain": [
              "<Figure size 432x288 with 1 Axes>"
            ],
            "image/png": "[encoded data removed]"
          },
          "metadata": {
            "needs_background": "light"
          }
        }
      ]
    },
    {
      "cell_type": "markdown",
      "source": [
        "The mean number of rental is ~205, with a standard deviation of 227."
      ],
      "metadata": {
        "id": "vSO255NLCYIm"
      }
    },
    {
      "cell_type": "code",
      "source": [
        "print(np.mean(df['rentals']), np.std(df['rentals']))"
      ],
      "metadata": {
        "colab": {
          "base_uri": "https://localhost:8080/"
        },
        "id": "ev1dAN3EPa7v",
        "outputId": "df856fcd-5f0b-4fda-f9a9-5463fa5c6d99"
      },
      "execution_count": null,
      "outputs": [
        {
          "output_type": "stream",
          "name": "stdout",
          "text": [
            "205.08578402882716 227.03926517480508\n"
          ]
        }
      ]
    },
    {
      "cell_type": "markdown",
      "source": [
        "Next a histogram at a temp of 25F."
      ],
      "metadata": {
        "id": "O5hDYpaNC3vx"
      }
    },
    {
      "cell_type": "code",
      "source": [
        "df_cold = df[df['temp']==25]\n",
        "plt.hist(df_cold['rentals'], bins = range(0,1400,50))\n",
        "plt.title('Rentals Data at Temp of 25F')\n",
        "plt.xlabel('Number of Rentals')\n",
        "plt.ylabel('Number of Data Points')"
      ],
      "metadata": {
        "colab": {
          "base_uri": "https://localhost:8080/",
          "height": 312
        },
        "id": "yQc_t36oQKKF",
        "outputId": "0d739bfe-b67f-4a86-8137-054004a3a792"
      },
      "execution_count": null,
      "outputs": [
        {
          "output_type": "execute_result",
          "data": {
            "text/plain": [
              "Text(0, 0.5, 'Number of Data Points')"
            ]
          },
          "metadata": {},
          "execution_count": 12
        },
        {
          "output_type": "display_data",
          "data": {
            "text/plain": [
              "<Figure size 432x288 with 1 Axes>"
            ],
            "image/png": "[encoded data removed]"
          },
          "metadata": {
            "needs_background": "light"
          }
        }
      ]
    },
    {
      "cell_type": "markdown",
      "source": [
        "Standard deviation is now a lot smaller.."
      ],
      "metadata": {
        "id": "h1puDfEODBd1"
      }
    },
    {
      "cell_type": "code",
      "source": [
        "print(np.mean(df_cold['rentals']), np.std(df_cold['rentals']))"
      ],
      "metadata": {
        "colab": {
          "base_uri": "https://localhost:8080/"
        },
        "id": "01Wpco2JCuZ-",
        "outputId": "33828123-8be3-4ee6-b0ff-a568a2264c66"
      },
      "execution_count": null,
      "outputs": [
        {
          "output_type": "stream",
          "name": "stdout",
          "text": [
            "72.55384615384615 90.4802623218041\n"
          ]
        }
      ]
    },
    {
      "cell_type": "markdown",
      "source": [
        "A scatter plot of rentals across hour of rental shows that knowing the hour of rental could potentially reduce variability dramatically."
      ],
      "metadata": {
        "id": "hoVanchTDbPJ"
      }
    },
    {
      "cell_type": "code",
      "source": [
        "plt.scatter(df['hour'],df['rentals'],s=2)\n",
        "plt.title('Rentals vs. Hour of Day')\n",
        "plt.xlabel('Hour of Day')\n",
        "plt.ylabel('# Rentals')"
      ],
      "metadata": {
        "colab": {
          "base_uri": "https://localhost:8080/",
          "height": 312
        },
        "id": "b_nafBiQTVuS",
        "outputId": "2d0e44e6-9d13-4560-d7e7-21c9c150da1f"
      },
      "execution_count": null,
      "outputs": [
        {
          "output_type": "execute_result",
          "data": {
            "text/plain": [
              "Text(0, 0.5, '# Rentals')"
            ]
          },
          "metadata": {},
          "execution_count": 14
        },
        {
          "output_type": "display_data",
          "data": {
            "text/plain": [
              "<Figure size 432x288 with 1 Axes>"
            ],
            "image/png": "[encoded data removed]"
          },
          "metadata": {
            "needs_background": "light"
          }
        }
      ]
    },
    {
      "cell_type": "markdown",
      "source": [
        "Now lets take a look at rentals vs. temperature. We also look at the mean (or average) number of rentals and notice a definite straight-line like trend"
      ],
      "metadata": {
        "id": "OoL7KiXXHugh"
      }
    },
    {
      "cell_type": "code",
      "source": [
        "plt.scatter(df['temp'],df['rentals'],s=2)\n",
        "plt.title('Rentals vs. Temp (mean value in orange)')\n",
        "plt.xlabel('Temp')\n",
        "plt.ylabel('# Rentals')\n",
        "plt.scatter(df['temp'].unique(),df.groupby('temp')['rentals'].mean())"
      ],
      "metadata": {
        "colab": {
          "base_uri": "https://localhost:8080/",
          "height": 312
        },
        "id": "dd9t77RTVo-g",
        "outputId": "5024e620-5791-43e7-baf2-c5bb1cfe15f0"
      },
      "execution_count": null,
      "outputs": [
        {
          "output_type": "execute_result",
          "data": {
            "text/plain": [
              "<matplotlib.collections.PathCollection at 0x7f94a1a16ed0>"
            ]
          },
          "metadata": {},
          "execution_count": 15
        },
        {
          "output_type": "display_data",
          "data": {
            "text/plain": [
              "<Figure size 432x288 with 1 Axes>"
            ],
            "image/png": "[encoded data removed]"
          },
          "metadata": {
            "needs_background": "light"
          }
        }
      ]
    },
    {
      "cell_type": "markdown",
      "source": [
        "The above scatter plot is the key motivation for linear regression which we will turn to next. In particular, we will run a number of regressions of the type 'rentals' vs. some other independent variable (eg. temp) that we belive to have explanatory power.  "
      ],
      "metadata": {
        "id": "70uo5euHIlBY"
      }
    },
    {
      "cell_type": "code",
      "source": [
        "est = ols(formula=\"rentals ~ temp\", data=df).fit()\n",
        "print(est.summary())"
      ],
      "metadata": {
        "colab": {
          "base_uri": "https://localhost:8080/"
        },
        "id": "n9uz3SMn8bj9",
        "outputId": "f8c668ae-39e2-4b69-97d7-37f4597d246b"
      },
      "execution_count": null,
      "outputs": [
        {
          "output_type": "stream",
          "name": "stdout",
          "text": [
            "                            OLS Regression Results                            \n",
            "==============================================================================\n",
            "Dep. Variable:                rentals   R-squared:                       0.235\n",
            "Model:                            OLS   Adj. R-squared:                  0.235\n",
            "Method:                 Least Squares   F-statistic:                     2641.\n",
            "Date:                Thu, 05 May 2022   Prob (F-statistic):               0.00\n",
            "Time:                        15:06:47   Log-Likelihood:                -57727.\n",
            "No. Observations:                8603   AIC:                         1.155e+05\n",
            "Df Residuals:                    8601   BIC:                         1.155e+05\n",
            "Df Model:                           1                                         \n",
            "Covariance Type:            nonrobust                                         \n",
            "==============================================================================\n",
            "                 coef    std err          t      P>|t|      [0.025      0.975]\n",
            "------------------------------------------------------------------------------\n",
            "Intercept   -115.1099      6.588    -17.473      0.000    -128.024    -102.196\n",
            "temp           6.0176      0.117     51.395      0.000       5.788       6.247\n",
            "==============================================================================\n",
            "Omnibus:                     2088.128   Durbin-Watson:                   0.424\n",
            "Prob(Omnibus):                  0.000   Jarque-Bera (JB):             5175.982\n",
            "Skew:                           1.332   Prob(JB):                         0.00\n",
            "Kurtosis:                       5.709   Cond. No.                         173.\n",
            "==============================================================================\n",
            "\n",
            "Warnings:\n",
            "[1] Standard Errors assume that the covariance matrix of the errors is correctly specified.\n"
          ]
        }
      ]
    },
    {
      "cell_type": "code",
      "source": [
        "est = ols(formula=\"rentals ~ rel_humidity\", data=df).fit()\n",
        "print(est.summary())"
      ],
      "metadata": {
        "colab": {
          "base_uri": "https://localhost:8080/"
        },
        "id": "4KAIAR5j_DCm",
        "outputId": "c16b3096-ddd9-4225-d7e1-0065dfd7727f"
      },
      "execution_count": null,
      "outputs": [
        {
          "output_type": "stream",
          "name": "stdout",
          "text": [
            "                            OLS Regression Results                            \n",
            "==============================================================================\n",
            "Dep. Variable:                rentals   R-squared:                       0.028\n",
            "Model:                            OLS   Adj. R-squared:                  0.028\n",
            "Method:                 Least Squares   F-statistic:                     249.5\n",
            "Date:                Thu, 05 May 2022   Prob (F-statistic):           1.99e-55\n",
            "Time:                        15:06:49   Log-Likelihood:                -58756.\n",
            "No. Observations:                8603   AIC:                         1.175e+05\n",
            "Df Residuals:                    8601   BIC:                         1.175e+05\n",
            "Df Model:                           1                                         \n",
            "Covariance Type:            nonrobust                                         \n",
            "================================================================================\n",
            "                   coef    std err          t      P>|t|      [0.025      0.975]\n",
            "--------------------------------------------------------------------------------\n",
            "Intercept      340.2762      8.892     38.266      0.000     322.845     357.707\n",
            "rel_humidity    -2.0146      0.128    -15.796      0.000      -2.265      -1.765\n",
            "==============================================================================\n",
            "Omnibus:                     2576.191   Durbin-Watson:                   0.336\n",
            "Prob(Omnibus):                  0.000   Jarque-Bera (JB):             6709.611\n",
            "Skew:                           1.633   Prob(JB):                         0.00\n",
            "Kurtosis:                       5.837   Cond. No.                         257.\n",
            "==============================================================================\n",
            "\n",
            "Warnings:\n",
            "[1] Standard Errors assume that the covariance matrix of the errors is correctly specified.\n"
          ]
        }
      ]
    },
    {
      "cell_type": "code",
      "source": [
        "est = ols(formula=\"rentals ~ weekend\", data=df).fit()\n",
        "print(est.summary())"
      ],
      "metadata": {
        "colab": {
          "base_uri": "https://localhost:8080/"
        },
        "id": "zZcDcPDF_PhY",
        "outputId": "06977dac-e609-44b0-8005-35a59325a7e5"
      },
      "execution_count": null,
      "outputs": [
        {
          "output_type": "stream",
          "name": "stdout",
          "text": [
            "                            OLS Regression Results                            \n",
            "==============================================================================\n",
            "Dep. Variable:                rentals   R-squared:                       0.015\n",
            "Model:                            OLS   Adj. R-squared:                  0.015\n",
            "Method:                 Least Squares   F-statistic:                     132.1\n",
            "Date:                Thu, 05 May 2022   Prob (F-statistic):           2.42e-30\n",
            "Time:                        15:06:52   Log-Likelihood:                -58814.\n",
            "No. Observations:                8603   AIC:                         1.176e+05\n",
            "Df Residuals:                    8601   BIC:                         1.176e+05\n",
            "Df Model:                           1                                         \n",
            "Covariance Type:            nonrobust                                         \n",
            "================================================================================\n",
            "                   coef    std err          t      P>|t|      [0.025      0.975]\n",
            "--------------------------------------------------------------------------------\n",
            "Intercept      222.8186      2.878     77.417      0.000     217.177     228.460\n",
            "weekend[T.1]   -61.6884      5.368    -11.492      0.000     -72.211     -51.166\n",
            "==============================================================================\n",
            "Omnibus:                     2401.797   Durbin-Watson:                   0.335\n",
            "Prob(Omnibus):                  0.000   Jarque-Bera (JB):             5705.729\n",
            "Skew:                           1.569   Prob(JB):                         0.00\n",
            "Kurtosis:                       5.464   Cond. No.                         2.43\n",
            "==============================================================================\n",
            "\n",
            "Warnings:\n",
            "[1] Standard Errors assume that the covariance matrix of the errors is correctly specified.\n"
          ]
        }
      ]
    },
    {
      "cell_type": "code",
      "source": [
        "est = ols(formula=\"rentals ~ day_of_week\", data=df).fit()\n",
        "print(est.summary())"
      ],
      "metadata": {
        "colab": {
          "base_uri": "https://localhost:8080/"
        },
        "id": "WBPXB8RM_XiR",
        "outputId": "712651a5-5640-4fb8-e5e4-7e952c25b619"
      },
      "execution_count": null,
      "outputs": [
        {
          "output_type": "stream",
          "name": "stdout",
          "text": [
            "                            OLS Regression Results                            \n",
            "==============================================================================\n",
            "Dep. Variable:                rentals   R-squared:                       0.017\n",
            "Model:                            OLS   Adj. R-squared:                  0.017\n",
            "Method:                 Least Squares   F-statistic:                     25.13\n",
            "Date:                Thu, 05 May 2022   Prob (F-statistic):           9.94e-30\n",
            "Time:                        15:06:54   Log-Likelihood:                -58805.\n",
            "No. Observations:                8603   AIC:                         1.176e+05\n",
            "Df Residuals:                    8596   BIC:                         1.177e+05\n",
            "Df Model:                           6                                         \n",
            "Covariance Type:            nonrobust                                         \n",
            "======================================================================================\n",
            "                         coef    std err          t      P>|t|      [0.025      0.975]\n",
            "--------------------------------------------------------------------------------------\n",
            "Intercept            225.2480      6.441     34.970      0.000     212.622     237.874\n",
            "day_of_week[T.Mon]   -22.2210      9.040     -2.458      0.014     -39.942      -4.500\n",
            "day_of_week[T.Sat]   -57.2245      9.082     -6.301      0.000     -75.027     -39.422\n",
            "day_of_week[T.Sun]   -71.0166      9.083     -7.818      0.000     -88.822     -53.211\n",
            "day_of_week[T.Thu]     6.8572      9.119      0.752      0.452     -11.017      24.732\n",
            "day_of_week[T.Tue]    -6.3961      9.136     -0.700      0.484     -24.304      11.512\n",
            "day_of_week[T.Wed]    10.2108      9.107      1.121      0.262      -7.642      28.063\n",
            "==============================================================================\n",
            "Omnibus:                     2399.606   Durbin-Watson:                   0.335\n",
            "Prob(Omnibus):                  0.000   Jarque-Bera (JB):             5702.983\n",
            "Skew:                           1.567   Prob(JB):                         0.00\n",
            "Kurtosis:                       5.468   Cond. No.                         7.89\n",
            "==============================================================================\n",
            "\n",
            "Warnings:\n",
            "[1] Standard Errors assume that the covariance matrix of the errors is correctly specified.\n"
          ]
        }
      ]
    },
    {
      "cell_type": "markdown",
      "source": [
        "As a first step with multiple linear regression, we look for correlations between our independent variables. The reason is simple enough -- if two distinct variables are highly correlated, we may not want to include both. The reason for this is that it causes something called 'collinearity' which we will examine more carefully a bit later.  "
      ],
      "metadata": {
        "id": "kdb2jsefJRMa"
      }
    },
    {
      "cell_type": "code",
      "source": [
        "df.corr()"
      ],
      "metadata": {
        "colab": {
          "base_uri": "https://localhost:8080/",
          "height": 237
        },
        "id": "nphT_hrAAE8t",
        "outputId": "792f169d-1cc7-41db-b4b1-cf00b51ebe71"
      },
      "execution_count": null,
      "outputs": [
        {
          "output_type": "execute_result",
          "data": {
            "text/plain": [
              "                rentals      temp   temp_wb  rel_humidity  windspeed  \\\n",
              "rentals        1.000000  0.484716  0.425792     -0.167903  -0.019345   \n",
              "temp           0.484716  1.000000  0.977801      0.126377  -0.148411   \n",
              "temp_wb        0.425792  0.977801  1.000000      0.319822  -0.188347   \n",
              "rel_humidity  -0.167903  0.126377  0.319822      1.000000  -0.218430   \n",
              "windspeed     -0.019345 -0.148411 -0.188347     -0.218430   1.000000   \n",
              "precipitation -0.071619  0.018469  0.057638      0.206801   0.069177   \n",
              "\n",
              "               precipitation  \n",
              "rentals            -0.071619  \n",
              "temp                0.018469  \n",
              "temp_wb             0.057638  \n",
              "rel_humidity        0.206801  \n",
              "windspeed           0.069177  \n",
              "precipitation       1.000000  "
            ],
            "text/html": [
              "\n",
              "  <div id=\"df-232cb611-13b0-4747-af33-dfd4f3e797d9\">\n",
              "    <div class=\"colab-df-container\">\n",
              "      <div>\n",
              "<style scoped>\n",
              "    .dataframe tbody tr th:only-of-type {\n",
              "        vertical-align: middle;\n",
              "    }\n",
              "\n",
              "    .dataframe tbody tr th {\n",
              "        vertical-align: top;\n",
              "    }\n",
              "\n",
              "    .dataframe thead th {\n",
              "        text-align: right;\n",
              "    }\n",
              "</style>\n",
              "<table border=\"1\" class=\"dataframe\">\n",
              "  <thead>\n",
              "    <tr style=\"text-align: right;\">\n",
              "      <th></th>\n",
              "      <th>rentals</th>\n",
              "      <th>temp</th>\n",
              "      <th>temp_wb</th>\n",
              "      <th>rel_humidity</th>\n",
              "      <th>windspeed</th>\n",
              "      <th>precipitation</th>\n",
              "    </tr>\n",
              "  </thead>\n",
              "  <tbody>\n",
              "    <tr>\n",
              "      <th>rentals</th>\n",
              "      <td>1.000000</td>\n",
              "      <td>0.484716</td>\n",
              "      <td>0.425792</td>\n",
              "      <td>-0.167903</td>\n",
              "      <td>-0.019345</td>\n",
              "      <td>-0.071619</td>\n",
              "    </tr>\n",
              "    <tr>\n",
              "      <th>temp</th>\n",
              "      <td>0.484716</td>\n",
              "      <td>1.000000</td>\n",
              "      <td>0.977801</td>\n",
              "      <td>0.126377</td>\n",
              "      <td>-0.148411</td>\n",
              "      <td>0.018469</td>\n",
              "    </tr>\n",
              "    <tr>\n",
              "      <th>temp_wb</th>\n",
              "      <td>0.425792</td>\n",
              "      <td>0.977801</td>\n",
              "      <td>1.000000</td>\n",
              "      <td>0.319822</td>\n",
              "      <td>-0.188347</td>\n",
              "      <td>0.057638</td>\n",
              "    </tr>\n",
              "    <tr>\n",
              "      <th>rel_humidity</th>\n",
              "      <td>-0.167903</td>\n",
              "      <td>0.126377</td>\n",
              "      <td>0.319822</td>\n",
              "      <td>1.000000</td>\n",
              "      <td>-0.218430</td>\n",
              "      <td>0.206801</td>\n",
              "    </tr>\n",
              "    <tr>\n",
              "      <th>windspeed</th>\n",
              "      <td>-0.019345</td>\n",
              "      <td>-0.148411</td>\n",
              "      <td>-0.188347</td>\n",
              "      <td>-0.218430</td>\n",
              "      <td>1.000000</td>\n",
              "      <td>0.069177</td>\n",
              "    </tr>\n",
              "    <tr>\n",
              "      <th>precipitation</th>\n",
              "      <td>-0.071619</td>\n",
              "      <td>0.018469</td>\n",
              "      <td>0.057638</td>\n",
              "      <td>0.206801</td>\n",
              "      <td>0.069177</td>\n",
              "      <td>1.000000</td>\n",
              "    </tr>\n",
              "  </tbody>\n",
              "</table>\n",
              "</div>\n",
              "      <button class=\"colab-df-convert\" onclick=\"convertToInteractive('df-232cb611-13b0-4747-af33-dfd4f3e797d9')\"\n",
              "              title=\"Convert this dataframe to an interactive table.\"\n",
              "              style=\"display:none;\">\n",
              "        \n",
              "  <svg xmlns=\"http://www.w3.org/2000/svg\" height=\"24px\"viewBox=\"0 0 24 24\"\n",
              "       width=\"24px\">\n",
              "    <path d=\"M0 0h24v24H0V0z\" fill=\"none\"/>\n",
              "    <path d=\"M18.56 5.44l.94 2.06.94-2.06 2.06-.94-2.06-.94-.94-2.06-.94 2.06-2.06.94zm-11 1L8.5 8.5l.94-2.06 2.06-.94-2.06-.94L8.5 2.5l-.94 2.06-2.06.94zm10 10l.94 2.06.94-2.06 2.06-.94-2.06-.94-.94-2.06-.94 2.06-2.06.94z\"/><path d=\"M17.41 7.96l-1.37-1.37c-.4-.4-.92-.59-1.43-.59-.52 0-1.04.2-1.43.59L10.3 9.45l-7.72 7.72c-.78.78-.78 2.05 0 2.83L4 21.41c.39.39.9.59 1.41.59.51 0 1.02-.2 1.41-.59l7.78-7.78 2.81-2.81c.8-.78.8-2.07 0-2.86zM5.41 20L4 18.59l7.72-7.72 1.47 1.35L5.41 20z\"/>\n",
              "  </svg>\n",
              "      </button>\n",
              "      \n",
              "  <style>\n",
              "    .colab-df-container {\n",
              "      display:flex;\n",
              "      flex-wrap:wrap;\n",
              "      gap: 12px;\n",
              "    }\n",
              "\n",
              "    .colab-df-convert {\n",
              "      background-color: #E8F0FE;\n",
              "      border: none;\n",
              "      border-radius: 50%;\n",
              "      cursor: pointer;\n",
              "      display: none;\n",
              "      fill: #1967D2;\n",
              "      height: 32px;\n",
              "      padding: 0 0 0 0;\n",
              "      width: 32px;\n",
              "    }\n",
              "\n",
              "    .colab-df-convert:hover {\n",
              "      background-color: #E2EBFA;\n",
              "      box-shadow: 0px 1px 2px rgba(60, 64, 67, 0.3), 0px 1px 3px 1px rgba(60, 64, 67, 0.15);\n",
              "      fill: #174EA6;\n",
              "    }\n",
              "\n",
              "    [theme=dark] .colab-df-convert {\n",
              "      background-color: #3B4455;\n",
              "      fill: #D2E3FC;\n",
              "    }\n",
              "\n",
              "    [theme=dark] .colab-df-convert:hover {\n",
              "      background-color: #434B5C;\n",
              "      box-shadow: 0px 1px 3px 1px rgba(0, 0, 0, 0.15);\n",
              "      filter: drop-shadow(0px 1px 2px rgba(0, 0, 0, 0.3));\n",
              "      fill: #FFFFFF;\n",
              "    }\n",
              "  </style>\n",
              "\n",
              "      <script>\n",
              "        const buttonEl =\n",
              "          document.querySelector('#df-232cb611-13b0-4747-af33-dfd4f3e797d9 button.colab-df-convert');\n",
              "        buttonEl.style.display =\n",
              "          google.colab.kernel.accessAllowed ? 'block' : 'none';\n",
              "\n",
              "        async function convertToInteractive(key) {\n",
              "          const element = document.querySelector('#df-232cb611-13b0-4747-af33-dfd4f3e797d9');\n",
              "          const dataTable =\n",
              "            await google.colab.kernel.invokeFunction('convertToInteractive',\n",
              "                                                     [key], {});\n",
              "          if (!dataTable) return;\n",
              "\n",
              "          const docLinkHtml = 'Like what you see? Visit the ' +\n",
              "            '<a target=\"_blank\" href=https://colab.research.google.com/notebooks/data_table.ipynb>data table notebook</a>'\n",
              "            + ' to learn more about interactive tables.';\n",
              "          element.innerHTML = '';\n",
              "          dataTable['output_type'] = 'display_data';\n",
              "          await google.colab.output.renderOutput(dataTable, element);\n",
              "          const docLink = document.createElement('div');\n",
              "          docLink.innerHTML = docLinkHtml;\n",
              "          element.appendChild(docLink);\n",
              "        }\n",
              "      </script>\n",
              "    </div>\n",
              "  </div>\n",
              "  "
            ]
          },
          "metadata": {},
          "execution_count": 20
        }
      ]
    },
    {
      "cell_type": "code",
      "source": [
        "est = ols(formula=\"rentals ~ temp + rel_humidity\", data=df).fit()\n",
        "print(est.summary())"
      ],
      "metadata": {
        "colab": {
          "base_uri": "https://localhost:8080/"
        },
        "id": "FsR4KVg_ASem",
        "outputId": "07730de4-f1f6-41b7-9bf2-35128c437c23"
      },
      "execution_count": null,
      "outputs": [
        {
          "output_type": "stream",
          "name": "stdout",
          "text": [
            "                            OLS Regression Results                            \n",
            "==============================================================================\n",
            "Dep. Variable:                rentals   R-squared:                       0.288\n",
            "Model:                            OLS   Adj. R-squared:                  0.288\n",
            "Method:                 Least Squares   F-statistic:                     1742.\n",
            "Date:                Thu, 05 May 2022   Prob (F-statistic):               0.00\n",
            "Time:                        15:06:58   Log-Likelihood:                -57416.\n",
            "No. Observations:                8603   AIC:                         1.148e+05\n",
            "Df Residuals:                    8600   BIC:                         1.149e+05\n",
            "Df Model:                           2                                         \n",
            "Covariance Type:            nonrobust                                         \n",
            "================================================================================\n",
            "                   coef    std err          t      P>|t|      [0.025      0.975]\n",
            "--------------------------------------------------------------------------------\n",
            "Intercept       52.9562      9.175      5.772      0.000      34.971      70.941\n",
            "temp             6.3829      0.114     56.066      0.000       6.160       6.606\n",
            "rel_humidity    -2.7942      0.110    -25.395      0.000      -3.010      -2.579\n",
            "==============================================================================\n",
            "Omnibus:                     2380.442   Durbin-Watson:                   0.458\n",
            "Prob(Omnibus):                  0.000   Jarque-Bera (JB):             6789.829\n",
            "Skew:                           1.454   Prob(JB):                         0.00\n",
            "Kurtosis:                       6.237   Cond. No.                         391.\n",
            "==============================================================================\n",
            "\n",
            "Warnings:\n",
            "[1] Standard Errors assume that the covariance matrix of the errors is correctly specified.\n"
          ]
        }
      ]
    },
    {
      "cell_type": "markdown",
      "source": [
        "What is the standard deviation of our residuals? Our best guess is the square root of the average squared residuals."
      ],
      "metadata": {
        "id": "WNxW0QM7cFJg"
      }
    },
    {
      "cell_type": "code",
      "source": [
        "print(np.sqrt(est.mse_resid))"
      ],
      "metadata": {
        "colab": {
          "base_uri": "https://localhost:8080/"
        },
        "id": "Cu0QYMrsas23",
        "outputId": "7275b12b-163a-47fc-ae94-7224c470a071"
      },
      "execution_count": null,
      "outputs": [
        {
          "output_type": "stream",
          "name": "stdout",
          "text": [
            "191.56676007313123\n"
          ]
        }
      ]
    },
    {
      "cell_type": "markdown",
      "source": [
        "So if we decided to predict the number of rentals when the temp is 60F and the relative humidity is 50%, the *point* estimate is simply"
      ],
      "metadata": {
        "id": "XlaFRh61ciGM"
      }
    },
    {
      "cell_type": "code",
      "source": [
        "print('y_pred = 52.9562 + 6.3829*60 - 2.7942*50 = ' + str(52.9562 + 6.3829*60 - 2.7942*50))"
      ],
      "metadata": {
        "colab": {
          "base_uri": "https://localhost:8080/"
        },
        "id": "gHfEsmnEcgno",
        "outputId": "f1bbae1a-cddd-469f-b345-fde9d8154bbb"
      },
      "execution_count": null,
      "outputs": [
        {
          "output_type": "stream",
          "name": "stdout",
          "text": [
            "y_pred = 52.9562 + 6.3829*60 - 2.7942*50 = 296.2202\n"
          ]
        }
      ]
    },
    {
      "cell_type": "markdown",
      "source": [
        "So, a probabilistic estimate will be well modeled as a Normal random variable with mean 296.22 and standard deviation 191.63. We can now answer a question like 'What is the chance that the number of rentals exceeds 400 when the temp is 60F and the relative humidity is 50%?'. The answer: the same as the probability that a Normal random variable with mean 296.22 and standard deviation 191.63 exceeds 400!"
      ],
      "metadata": {
        "id": "L96cYqdpdPiR"
      }
    },
    {
      "cell_type": "code",
      "source": [
        "print('Probability of at least 400 rentals at 60F with 50% humidity: '+str(1-norm.cdf(400,loc=296.22,scale=191.63)))"
      ],
      "metadata": {
        "colab": {
          "base_uri": "https://localhost:8080/"
        },
        "id": "lb5f9nRHdyTU",
        "outputId": "3610ee23-f851-498b-b9d2-0c379d1cd7bb"
      },
      "execution_count": null,
      "outputs": [
        {
          "output_type": "stream",
          "name": "stdout",
          "text": [
            "Probability of at least 400 rentals at 60F with 50% humidity: 0.2940592857195723\n"
          ]
        }
      ]
    },
    {
      "cell_type": "code",
      "source": [
        "est.conf_int(alpha = 0.05)"
      ],
      "metadata": {
        "id": "wTU4E2kNRwGx",
        "colab": {
          "base_uri": "https://localhost:8080/",
          "height": 143
        },
        "outputId": "951840cc-86bb-496d-d357-ab6ad55bd762"
      },
      "execution_count": null,
      "outputs": [
        {
          "output_type": "execute_result",
          "data": {
            "text/plain": [
              "                      0          1\n",
              "Intercept     34.971280  70.941053\n",
              "temp           6.159768   6.606104\n",
              "rel_humidity  -3.009922  -2.578540"
            ],
            "text/html": [
              "\n",
              "  <div id=\"df-e02f4d0a-be3b-45ad-82ca-96f4f7baaa70\">\n",
              "    <div class=\"colab-df-container\">\n",
              "      <div>\n",
              "<style scoped>\n",
              "    .dataframe tbody tr th:only-of-type {\n",
              "        vertical-align: middle;\n",
              "    }\n",
              "\n",
              "    .dataframe tbody tr th {\n",
              "        vertical-align: top;\n",
              "    }\n",
              "\n",
              "    .dataframe thead th {\n",
              "        text-align: right;\n",
              "    }\n",
              "</style>\n",
              "<table border=\"1\" class=\"dataframe\">\n",
              "  <thead>\n",
              "    <tr style=\"text-align: right;\">\n",
              "      <th></th>\n",
              "      <th>0</th>\n",
              "      <th>1</th>\n",
              "    </tr>\n",
              "  </thead>\n",
              "  <tbody>\n",
              "    <tr>\n",
              "      <th>Intercept</th>\n",
              "      <td>34.971280</td>\n",
              "      <td>70.941053</td>\n",
              "    </tr>\n",
              "    <tr>\n",
              "      <th>temp</th>\n",
              "      <td>6.159768</td>\n",
              "      <td>6.606104</td>\n",
              "    </tr>\n",
              "    <tr>\n",
              "      <th>rel_humidity</th>\n",
              "      <td>-3.009922</td>\n",
              "      <td>-2.578540</td>\n",
              "    </tr>\n",
              "  </tbody>\n",
              "</table>\n",
              "</div>\n",
              "      <button class=\"colab-df-convert\" onclick=\"convertToInteractive('df-e02f4d0a-be3b-45ad-82ca-96f4f7baaa70')\"\n",
              "              title=\"Convert this dataframe to an interactive table.\"\n",
              "              style=\"display:none;\">\n",
              "        \n",
              "  <svg xmlns=\"http://www.w3.org/2000/svg\" height=\"24px\"viewBox=\"0 0 24 24\"\n",
              "       width=\"24px\">\n",
              "    <path d=\"M0 0h24v24H0V0z\" fill=\"none\"/>\n",
              "    <path d=\"M18.56 5.44l.94 2.06.94-2.06 2.06-.94-2.06-.94-.94-2.06-.94 2.06-2.06.94zm-11 1L8.5 8.5l.94-2.06 2.06-.94-2.06-.94L8.5 2.5l-.94 2.06-2.06.94zm10 10l.94 2.06.94-2.06 2.06-.94-2.06-.94-.94-2.06-.94 2.06-2.06.94z\"/><path d=\"M17.41 7.96l-1.37-1.37c-.4-.4-.92-.59-1.43-.59-.52 0-1.04.2-1.43.59L10.3 9.45l-7.72 7.72c-.78.78-.78 2.05 0 2.83L4 21.41c.39.39.9.59 1.41.59.51 0 1.02-.2 1.41-.59l7.78-7.78 2.81-2.81c.8-.78.8-2.07 0-2.86zM5.41 20L4 18.59l7.72-7.72 1.47 1.35L5.41 20z\"/>\n",
              "  </svg>\n",
              "      </button>\n",
              "      \n",
              "  <style>\n",
              "    .colab-df-container {\n",
              "      display:flex;\n",
              "      flex-wrap:wrap;\n",
              "      gap: 12px;\n",
              "    }\n",
              "\n",
              "    .colab-df-convert {\n",
              "      background-color: #E8F0FE;\n",
              "      border: none;\n",
              "      border-radius: 50%;\n",
              "      cursor: pointer;\n",
              "      display: none;\n",
              "      fill: #1967D2;\n",
              "      height: 32px;\n",
              "      padding: 0 0 0 0;\n",
              "      width: 32px;\n",
              "    }\n",
              "\n",
              "    .colab-df-convert:hover {\n",
              "      background-color: #E2EBFA;\n",
              "      box-shadow: 0px 1px 2px rgba(60, 64, 67, 0.3), 0px 1px 3px 1px rgba(60, 64, 67, 0.15);\n",
              "      fill: #174EA6;\n",
              "    }\n",
              "\n",
              "    [theme=dark] .colab-df-convert {\n",
              "      background-color: #3B4455;\n",
              "      fill: #D2E3FC;\n",
              "    }\n",
              "\n",
              "    [theme=dark] .colab-df-convert:hover {\n",
              "      background-color: #434B5C;\n",
              "      box-shadow: 0px 1px 3px 1px rgba(0, 0, 0, 0.15);\n",
              "      filter: drop-shadow(0px 1px 2px rgba(0, 0, 0, 0.3));\n",
              "      fill: #FFFFFF;\n",
              "    }\n",
              "  </style>\n",
              "\n",
              "      <script>\n",
              "        const buttonEl =\n",
              "          document.querySelector('#df-e02f4d0a-be3b-45ad-82ca-96f4f7baaa70 button.colab-df-convert');\n",
              "        buttonEl.style.display =\n",
              "          google.colab.kernel.accessAllowed ? 'block' : 'none';\n",
              "\n",
              "        async function convertToInteractive(key) {\n",
              "          const element = document.querySelector('#df-e02f4d0a-be3b-45ad-82ca-96f4f7baaa70');\n",
              "          const dataTable =\n",
              "            await google.colab.kernel.invokeFunction('convertToInteractive',\n",
              "                                                     [key], {});\n",
              "          if (!dataTable) return;\n",
              "\n",
              "          const docLinkHtml = 'Like what you see? Visit the ' +\n",
              "            '<a target=\"_blank\" href=https://colab.research.google.com/notebooks/data_table.ipynb>data table notebook</a>'\n",
              "            + ' to learn more about interactive tables.';\n",
              "          element.innerHTML = '';\n",
              "          dataTable['output_type'] = 'display_data';\n",
              "          await google.colab.output.renderOutput(dataTable, element);\n",
              "          const docLink = document.createElement('div');\n",
              "          docLink.innerHTML = docLinkHtml;\n",
              "          element.appendChild(docLink);\n",
              "        }\n",
              "      </script>\n",
              "    </div>\n",
              "  </div>\n",
              "  "
            ]
          },
          "metadata": {},
          "execution_count": 25
        }
      ]
    },
    {
      "cell_type": "code",
      "source": [
        "random_data = np.random.rand(len(df['rentals']))\n",
        "df['random'] = random_data\n",
        "df.head(6)"
      ],
      "metadata": {
        "colab": {
          "base_uri": "https://localhost:8080/",
          "height": 237
        },
        "id": "oXO1uLseViAs",
        "outputId": "97157a3b-3b95-402a-d3b4-53c270dd2b9a"
      },
      "execution_count": null,
      "outputs": [
        {
          "output_type": "execute_result",
          "data": {
            "text/plain": [
              "   rentals month day hour day_of_week weekend  temp  temp_wb  rel_humidity  \\\n",
              "0        4     1   1    0         Mon       0     2        0            59   \n",
              "1        6     1   1    1         Mon       0     1        0            59   \n",
              "2        6     1   1    2         Mon       0     1       -1            54   \n",
              "3        1     1   1    5         Mon       0     0       -2            54   \n",
              "4        3     1   1    6         Mon       0     0       -2            54   \n",
              "5        3     1   1    7         Mon       0     0       -2            54   \n",
              "\n",
              "   windspeed  precipitation    random  \n",
              "0         16            0.0  0.374540  \n",
              "1         11            0.0  0.950714  \n",
              "2         21            0.0  0.731994  \n",
              "3         18            0.0  0.598658  \n",
              "4         15            0.0  0.156019  \n",
              "5         11            0.0  0.155995  "
            ],
            "text/html": [
              "\n",
              "  <div id=\"df-87371f2a-4470-4df6-a6e5-05db5a1145d9\">\n",
              "    <div class=\"colab-df-container\">\n",
              "      <div>\n",
              "<style scoped>\n",
              "    .dataframe tbody tr th:only-of-type {\n",
              "        vertical-align: middle;\n",
              "    }\n",
              "\n",
              "    .dataframe tbody tr th {\n",
              "        vertical-align: top;\n",
              "    }\n",
              "\n",
              "    .dataframe thead th {\n",
              "        text-align: right;\n",
              "    }\n",
              "</style>\n",
              "<table border=\"1\" class=\"dataframe\">\n",
              "  <thead>\n",
              "    <tr style=\"text-align: right;\">\n",
              "      <th></th>\n",
              "      <th>rentals</th>\n",
              "      <th>month</th>\n",
              "      <th>day</th>\n",
              "      <th>hour</th>\n",
              "      <th>day_of_week</th>\n",
              "      <th>weekend</th>\n",
              "      <th>temp</th>\n",
              "      <th>temp_wb</th>\n",
              "      <th>rel_humidity</th>\n",
              "      <th>windspeed</th>\n",
              "      <th>precipitation</th>\n",
              "      <th>random</th>\n",
              "    </tr>\n",
              "  </thead>\n",
              "  <tbody>\n",
              "    <tr>\n",
              "      <th>0</th>\n",
              "      <td>4</td>\n",
              "      <td>1</td>\n",
              "      <td>1</td>\n",
              "      <td>0</td>\n",
              "      <td>Mon</td>\n",
              "      <td>0</td>\n",
              "      <td>2</td>\n",
              "      <td>0</td>\n",
              "      <td>59</td>\n",
              "      <td>16</td>\n",
              "      <td>0.0</td>\n",
              "      <td>0.374540</td>\n",
              "    </tr>\n",
              "    <tr>\n",
              "      <th>1</th>\n",
              "      <td>6</td>\n",
              "      <td>1</td>\n",
              "      <td>1</td>\n",
              "      <td>1</td>\n",
              "      <td>Mon</td>\n",
              "      <td>0</td>\n",
              "      <td>1</td>\n",
              "      <td>0</td>\n",
              "      <td>59</td>\n",
              "      <td>11</td>\n",
              "      <td>0.0</td>\n",
              "      <td>0.950714</td>\n",
              "    </tr>\n",
              "    <tr>\n",
              "      <th>2</th>\n",
              "      <td>6</td>\n",
              "      <td>1</td>\n",
              "      <td>1</td>\n",
              "      <td>2</td>\n",
              "      <td>Mon</td>\n",
              "      <td>0</td>\n",
              "      <td>1</td>\n",
              "      <td>-1</td>\n",
              "      <td>54</td>\n",
              "      <td>21</td>\n",
              "      <td>0.0</td>\n",
              "      <td>0.731994</td>\n",
              "    </tr>\n",
              "    <tr>\n",
              "      <th>3</th>\n",
              "      <td>1</td>\n",
              "      <td>1</td>\n",
              "      <td>1</td>\n",
              "      <td>5</td>\n",
              "      <td>Mon</td>\n",
              "      <td>0</td>\n",
              "      <td>0</td>\n",
              "      <td>-2</td>\n",
              "      <td>54</td>\n",
              "      <td>18</td>\n",
              "      <td>0.0</td>\n",
              "      <td>0.598658</td>\n",
              "    </tr>\n",
              "    <tr>\n",
              "      <th>4</th>\n",
              "      <td>3</td>\n",
              "      <td>1</td>\n",
              "      <td>1</td>\n",
              "      <td>6</td>\n",
              "      <td>Mon</td>\n",
              "      <td>0</td>\n",
              "      <td>0</td>\n",
              "      <td>-2</td>\n",
              "      <td>54</td>\n",
              "      <td>15</td>\n",
              "      <td>0.0</td>\n",
              "      <td>0.156019</td>\n",
              "    </tr>\n",
              "    <tr>\n",
              "      <th>5</th>\n",
              "      <td>3</td>\n",
              "      <td>1</td>\n",
              "      <td>1</td>\n",
              "      <td>7</td>\n",
              "      <td>Mon</td>\n",
              "      <td>0</td>\n",
              "      <td>0</td>\n",
              "      <td>-2</td>\n",
              "      <td>54</td>\n",
              "      <td>11</td>\n",
              "      <td>0.0</td>\n",
              "      <td>0.155995</td>\n",
              "    </tr>\n",
              "  </tbody>\n",
              "</table>\n",
              "</div>\n",
              "      <button class=\"colab-df-convert\" onclick=\"convertToInteractive('df-87371f2a-4470-4df6-a6e5-05db5a1145d9')\"\n",
              "              title=\"Convert this dataframe to an interactive table.\"\n",
              "              style=\"display:none;\">\n",
              "        \n",
              "  <svg xmlns=\"http://www.w3.org/2000/svg\" height=\"24px\"viewBox=\"0 0 24 24\"\n",
              "       width=\"24px\">\n",
              "    <path d=\"M0 0h24v24H0V0z\" fill=\"none\"/>\n",
              "    <path d=\"M18.56 5.44l.94 2.06.94-2.06 2.06-.94-2.06-.94-.94-2.06-.94 2.06-2.06.94zm-11 1L8.5 8.5l.94-2.06 2.06-.94-2.06-.94L8.5 2.5l-.94 2.06-2.06.94zm10 10l.94 2.06.94-2.06 2.06-.94-2.06-.94-.94-2.06-.94 2.06-2.06.94z\"/><path d=\"M17.41 7.96l-1.37-1.37c-.4-.4-.92-.59-1.43-.59-.52 0-1.04.2-1.43.59L10.3 9.45l-7.72 7.72c-.78.78-.78 2.05 0 2.83L4 21.41c.39.39.9.59 1.41.59.51 0 1.02-.2 1.41-.59l7.78-7.78 2.81-2.81c.8-.78.8-2.07 0-2.86zM5.41 20L4 18.59l7.72-7.72 1.47 1.35L5.41 20z\"/>\n",
              "  </svg>\n",
              "      </button>\n",
              "      \n",
              "  <style>\n",
              "    .colab-df-container {\n",
              "      display:flex;\n",
              "      flex-wrap:wrap;\n",
              "      gap: 12px;\n",
              "    }\n",
              "\n",
              "    .colab-df-convert {\n",
              "      background-color: #E8F0FE;\n",
              "      border: none;\n",
              "      border-radius: 50%;\n",
              "      cursor: pointer;\n",
              "      display: none;\n",
              "      fill: #1967D2;\n",
              "      height: 32px;\n",
              "      padding: 0 0 0 0;\n",
              "      width: 32px;\n",
              "    }\n",
              "\n",
              "    .colab-df-convert:hover {\n",
              "      background-color: #E2EBFA;\n",
              "      box-shadow: 0px 1px 2px rgba(60, 64, 67, 0.3), 0px 1px 3px 1px rgba(60, 64, 67, 0.15);\n",
              "      fill: #174EA6;\n",
              "    }\n",
              "\n",
              "    [theme=dark] .colab-df-convert {\n",
              "      background-color: #3B4455;\n",
              "      fill: #D2E3FC;\n",
              "    }\n",
              "\n",
              "    [theme=dark] .colab-df-convert:hover {\n",
              "      background-color: #434B5C;\n",
              "      box-shadow: 0px 1px 3px 1px rgba(0, 0, 0, 0.15);\n",
              "      filter: drop-shadow(0px 1px 2px rgba(0, 0, 0, 0.3));\n",
              "      fill: #FFFFFF;\n",
              "    }\n",
              "  </style>\n",
              "\n",
              "      <script>\n",
              "        const buttonEl =\n",
              "          document.querySelector('#df-87371f2a-4470-4df6-a6e5-05db5a1145d9 button.colab-df-convert');\n",
              "        buttonEl.style.display =\n",
              "          google.colab.kernel.accessAllowed ? 'block' : 'none';\n",
              "\n",
              "        async function convertToInteractive(key) {\n",
              "          const element = document.querySelector('#df-87371f2a-4470-4df6-a6e5-05db5a1145d9');\n",
              "          const dataTable =\n",
              "            await google.colab.kernel.invokeFunction('convertToInteractive',\n",
              "                                                     [key], {});\n",
              "          if (!dataTable) return;\n",
              "\n",
              "          const docLinkHtml = 'Like what you see? Visit the ' +\n",
              "            '<a target=\"_blank\" href=https://colab.research.google.com/notebooks/data_table.ipynb>data table notebook</a>'\n",
              "            + ' to learn more about interactive tables.';\n",
              "          element.innerHTML = '';\n",
              "          dataTable['output_type'] = 'display_data';\n",
              "          await google.colab.output.renderOutput(dataTable, element);\n",
              "          const docLink = document.createElement('div');\n",
              "          docLink.innerHTML = docLinkHtml;\n",
              "          element.appendChild(docLink);\n",
              "        }\n",
              "      </script>\n",
              "    </div>\n",
              "  </div>\n",
              "  "
            ]
          },
          "metadata": {},
          "execution_count": 26
        }
      ]
    },
    {
      "cell_type": "code",
      "source": [
        "df['rentals'].corr(df['random'])"
      ],
      "metadata": {
        "colab": {
          "base_uri": "https://localhost:8080/"
        },
        "id": "AOfg5Ql7WIMH",
        "outputId": "4e48a20a-ef53-4f81-80fb-9c7d542e8a7f"
      },
      "execution_count": null,
      "outputs": [
        {
          "output_type": "execute_result",
          "data": {
            "text/plain": [
              "-0.007882000283962964"
            ]
          },
          "metadata": {},
          "execution_count": 27
        }
      ]
    },
    {
      "cell_type": "code",
      "source": [
        "plt.scatter(df['random'],df['rentals'],s=2)\n",
        "plt.title('Rentals vs. Random Data')\n",
        "plt.xlabel('Random')\n",
        "plt.ylabel('# Rentals')"
      ],
      "metadata": {
        "colab": {
          "base_uri": "https://localhost:8080/",
          "height": 312
        },
        "id": "TM9IQFOYWshe",
        "outputId": "125b86be-d074-445e-d439-aa1ebbd2c284"
      },
      "execution_count": null,
      "outputs": [
        {
          "output_type": "execute_result",
          "data": {
            "text/plain": [
              "Text(0, 0.5, '# Rentals')"
            ]
          },
          "metadata": {},
          "execution_count": 28
        },
        {
          "output_type": "display_data",
          "data": {
            "text/plain": [
              "<Figure size 432x288 with 1 Axes>"
            ],
            "image/png": "[encoded data removed]"
          },
          "metadata": {
            "needs_background": "light"
          }
        }
      ]
    },
    {
      "cell_type": "code",
      "source": [
        "est = ols(formula=\"rentals ~ temp + rel_humidity + random\", data=df).fit()\n",
        "print(est.summary())"
      ],
      "metadata": {
        "colab": {
          "base_uri": "https://localhost:8080/"
        },
        "id": "31ZP_9g3W8rK",
        "outputId": "52aa5102-f71d-4b43-b2df-9b197613e300"
      },
      "execution_count": null,
      "outputs": [
        {
          "output_type": "stream",
          "name": "stdout",
          "text": [
            "                            OLS Regression Results                            \n",
            "==============================================================================\n",
            "Dep. Variable:                rentals   R-squared:                       0.288\n",
            "Model:                            OLS   Adj. R-squared:                  0.288\n",
            "Method:                 Least Squares   F-statistic:                     1162.\n",
            "Date:                Thu, 05 May 2022   Prob (F-statistic):               0.00\n",
            "Time:                        15:07:12   Log-Likelihood:                -57416.\n",
            "No. Observations:                8603   AIC:                         1.148e+05\n",
            "Df Residuals:                    8599   BIC:                         1.149e+05\n",
            "Df Model:                           3                                         \n",
            "Covariance Type:            nonrobust                                         \n",
            "================================================================================\n",
            "                   coef    std err          t      P>|t|      [0.025      0.975]\n",
            "--------------------------------------------------------------------------------\n",
            "Intercept       56.9138      9.834      5.787      0.000      37.636      76.192\n",
            "temp             6.3834      0.114     56.070      0.000       6.160       6.607\n",
            "rel_humidity    -2.7946      0.110    -25.398      0.000      -3.010      -2.579\n",
            "random          -7.9961      7.155     -1.118      0.264     -22.022       6.030\n",
            "==============================================================================\n",
            "Omnibus:                     2380.176   Durbin-Watson:                   0.458\n",
            "Prob(Omnibus):                  0.000   Jarque-Bera (JB):             6787.838\n",
            "Skew:                           1.454   Prob(JB):                         0.00\n",
            "Kurtosis:                       6.237   Cond. No.                         442.\n",
            "==============================================================================\n",
            "\n",
            "Warnings:\n",
            "[1] Standard Errors assume that the covariance matrix of the errors is correctly specified.\n"
          ]
        }
      ]
    },
    {
      "cell_type": "code",
      "source": [
        "est = ols(formula=\"rentals ~ temp + rel_humidity + windspeed + precipitation\", data=df).fit()\n",
        "print(est.summary())"
      ],
      "metadata": {
        "colab": {
          "base_uri": "https://localhost:8080/"
        },
        "id": "qgv-jqrKXI9Q",
        "outputId": "c418d76d-2032-4e06-9cd0-515d65724e6b"
      },
      "execution_count": null,
      "outputs": [
        {
          "output_type": "stream",
          "name": "stdout",
          "text": [
            "                            OLS Regression Results                            \n",
            "==============================================================================\n",
            "Dep. Variable:                rentals   R-squared:                       0.290\n",
            "Model:                            OLS   Adj. R-squared:                  0.289\n",
            "Method:                 Least Squares   F-statistic:                     876.1\n",
            "Date:                Thu, 05 May 2022   Prob (F-statistic):               0.00\n",
            "Time:                        15:07:14   Log-Likelihood:                -57409.\n",
            "No. Observations:                8603   AIC:                         1.148e+05\n",
            "Df Residuals:                    8598   BIC:                         1.149e+05\n",
            "Df Model:                           4                                         \n",
            "Covariance Type:            nonrobust                                         \n",
            "=================================================================================\n",
            "                    coef    std err          t      P>|t|      [0.025      0.975]\n",
            "---------------------------------------------------------------------------------\n",
            "Intercept        40.8156     11.488      3.553      0.000      18.297      63.334\n",
            "temp              6.3960      0.115     55.782      0.000       6.171       6.621\n",
            "rel_humidity     -2.6789      0.115    -23.236      0.000      -2.905      -2.453\n",
            "windspeed         0.4503      0.394      1.144      0.253      -0.321       1.222\n",
            "precipitation  -237.9935     62.368     -3.816      0.000    -360.251    -115.736\n",
            "==============================================================================\n",
            "Omnibus:                     2370.634   Durbin-Watson:                   0.462\n",
            "Prob(Omnibus):                  0.000   Jarque-Bera (JB):             6743.262\n",
            "Skew:                           1.449   Prob(JB):                         0.00\n",
            "Kurtosis:                       6.226   Cond. No.                     2.68e+03\n",
            "==============================================================================\n",
            "\n",
            "Warnings:\n",
            "[1] Standard Errors assume that the covariance matrix of the errors is correctly specified.\n",
            "[2] The condition number is large, 2.68e+03. This might indicate that there are\n",
            "strong multicollinearity or other numerical problems.\n"
          ]
        }
      ]
    },
    {
      "cell_type": "code",
      "source": [
        "est = ols(formula=\"rentals ~ temp + rel_humidity + precipitation\", data=df).fit()\n",
        "print(est.summary())"
      ],
      "metadata": {
        "colab": {
          "base_uri": "https://localhost:8080/"
        },
        "id": "BWt11f2YXULg",
        "outputId": "cae68aac-f089-4578-c04d-644960daf93b"
      },
      "execution_count": null,
      "outputs": [
        {
          "output_type": "stream",
          "name": "stdout",
          "text": [
            "                            OLS Regression Results                            \n",
            "==============================================================================\n",
            "Dep. Variable:                rentals   R-squared:                       0.289\n",
            "Model:                            OLS   Adj. R-squared:                  0.289\n",
            "Method:                 Least Squares   F-statistic:                     1168.\n",
            "Date:                Thu, 05 May 2022   Prob (F-statistic):               0.00\n",
            "Time:                        15:07:16   Log-Likelihood:                -57410.\n",
            "No. Observations:                8603   AIC:                         1.148e+05\n",
            "Df Residuals:                    8599   BIC:                         1.149e+05\n",
            "Df Model:                           3                                         \n",
            "Covariance Type:            nonrobust                                         \n",
            "=================================================================================\n",
            "                    coef    std err          t      P>|t|      [0.025      0.975]\n",
            "---------------------------------------------------------------------------------\n",
            "Intercept        48.6214      9.242      5.261      0.000      30.504      66.739\n",
            "temp              6.3796      0.114     56.076      0.000       6.157       6.603\n",
            "rel_humidity     -2.7084      0.112    -24.104      0.000      -2.929      -2.488\n",
            "precipitation  -229.4505     61.921     -3.706      0.000    -350.831    -108.070\n",
            "==============================================================================\n",
            "Omnibus:                     2367.029   Durbin-Watson:                   0.462\n",
            "Prob(Omnibus):                  0.000   Jarque-Bera (JB):             6731.705\n",
            "Skew:                           1.447   Prob(JB):                         0.00\n",
            "Kurtosis:                       6.225   Cond. No.                     2.64e+03\n",
            "==============================================================================\n",
            "\n",
            "Warnings:\n",
            "[1] Standard Errors assume that the covariance matrix of the errors is correctly specified.\n",
            "[2] The condition number is large, 2.64e+03. This might indicate that there are\n",
            "strong multicollinearity or other numerical problems.\n"
          ]
        }
      ]
    },
    {
      "cell_type": "code",
      "source": [
        "est = ols(formula=\"rentals ~ temp + temp_wb\", data=df).fit()\n",
        "print(est.summary())"
      ],
      "metadata": {
        "colab": {
          "base_uri": "https://localhost:8080/"
        },
        "id": "5LFQsVoFXZ0Q",
        "outputId": "aff81757-0ee5-43f9-b74d-d8b07de15bf2"
      },
      "execution_count": null,
      "outputs": [
        {
          "output_type": "stream",
          "name": "stdout",
          "text": [
            "                            OLS Regression Results                            \n",
            "==============================================================================\n",
            "Dep. Variable:                rentals   R-squared:                       0.288\n",
            "Model:                            OLS   Adj. R-squared:                  0.288\n",
            "Method:                 Least Squares   F-statistic:                     1738.\n",
            "Date:                Thu, 05 May 2022   Prob (F-statistic):               0.00\n",
            "Time:                        15:19:27   Log-Likelihood:                -57420.\n",
            "No. Observations:                8603   AIC:                         1.148e+05\n",
            "Df Residuals:                    8600   BIC:                         1.149e+05\n",
            "Df Model:                           2                                         \n",
            "Covariance Type:            nonrobust                                         \n",
            "==============================================================================\n",
            "                 coef    std err          t      P>|t|      [0.025      0.975]\n",
            "------------------------------------------------------------------------------\n",
            "Intercept   -119.2405      6.359    -18.752      0.000    -131.705    -106.776\n",
            "temp          19.3338      0.539     35.858      0.000      18.277      20.391\n",
            "temp_wb      -14.7260      0.583    -25.258      0.000     -15.869     -13.583\n",
            "==============================================================================\n",
            "Omnibus:                     2473.945   Durbin-Watson:                   0.460\n",
            "Prob(Omnibus):                  0.000   Jarque-Bera (JB):             7319.712\n",
            "Skew:                           1.497   Prob(JB):                         0.00\n",
            "Kurtosis:                       6.384   Cond. No.                         233.\n",
            "==============================================================================\n",
            "\n",
            "Warnings:\n",
            "[1] Standard Errors assume that the covariance matrix of the errors is correctly specified.\n"
          ]
        }
      ]
    }
  ]
}